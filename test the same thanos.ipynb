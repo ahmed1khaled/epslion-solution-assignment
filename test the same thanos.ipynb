{
 "cells": [
  {
   "cell_type": "code",
   "execution_count": 23,
   "metadata": {},
   "outputs": [],
   "source": [
    "import os\n",
    "import random \n",
    "import string\n",
    "#import path\n",
    "#os.listdir('ahmed')\n",
    "#path=\"f:\\ahmed\""
   ]
  },
  {
   "cell_type": "code",
   "execution_count": 26,
   "metadata": {},
   "outputs": [],
   "source": [
    "for i in os.listdir('ahmed'):\n",
    "    x=string.ascii_lowercase\n",
    "    z=random.choices(x,k=5)\n",
    "    os.rename(f'./ahmed/{i}',f'ahmed/{\"\".join(z)}.jpg')"
   ]
  },
  {
   "cell_type": "code",
   "execution_count": 27,
   "metadata": {},
   "outputs": [
    {
     "data": {
      "text/plain": [
       "['akwwo.jpg',\n",
       " 'aluzg.jpg',\n",
       " 'asndq.jpg',\n",
       " 'avwml.jpg',\n",
       " 'bdvjr.jpg',\n",
       " 'bhkea.jpg',\n",
       " 'bpzjc.jpg',\n",
       " 'bqpdy.jpg',\n",
       " 'brqjx.jpg',\n",
       " 'bsojv.jpg',\n",
       " 'bvmhv.jpg',\n",
       " 'cytcn.jpg',\n",
       " 'dzpkx.jpg',\n",
       " 'eaogq.jpg',\n",
       " 'eaqtn.jpg',\n",
       " 'edxdr.jpg',\n",
       " 'efsia.jpg',\n",
       " 'fhgcb.jpg',\n",
       " 'gthqm.jpg',\n",
       " 'jwgjq.jpg',\n",
       " 'kmruy.jpg',\n",
       " 'mgsgs.jpg',\n",
       " 'mzggc.jpg',\n",
       " 'ofpzy.jpg',\n",
       " 'ppvlv.jpg',\n",
       " 'qbwle.jpg',\n",
       " 'qcggv.jpg',\n",
       " 'qcstm.jpg',\n",
       " 'qtvpv.jpg',\n",
       " 'sftkj.jpg',\n",
       " 'shedr.jpg',\n",
       " 'smobg.jpg',\n",
       " 'sncjs.jpg',\n",
       " 'vstpp.jpg',\n",
       " 'wnxhr.jpg',\n",
       " 'wxwyk.jpg',\n",
       " 'xfcfa.jpg',\n",
       " 'xjsrz.jpg',\n",
       " 'xvsrf.jpg',\n",
       " 'yejdi.jpg',\n",
       " 'yuawi.jpg',\n",
       " 'yxkqn.jpg',\n",
       " 'yykuz.jpg',\n",
       " 'zsras.jpg',\n",
       " 'zyvol.jpg']"
      ]
     },
     "execution_count": 27,
     "metadata": {},
     "output_type": "execute_result"
    }
   ],
   "source": [
    "os.listdir('ahmed')"
   ]
  },
  {
   "cell_type": "code",
   "execution_count": null,
   "metadata": {},
   "outputs": [],
   "source": []
  },
  {
   "cell_type": "code",
   "execution_count": null,
   "metadata": {},
   "outputs": [],
   "source": []
  },
  {
   "cell_type": "code",
   "execution_count": null,
   "metadata": {},
   "outputs": [],
   "source": []
  }
 ],
 "metadata": {
  "kernelspec": {
   "display_name": "Python 3",
   "language": "python",
   "name": "python3"
  },
  "language_info": {
   "codemirror_mode": {
    "name": "ipython",
    "version": 3
   },
   "file_extension": ".py",
   "mimetype": "text/x-python",
   "name": "python",
   "nbconvert_exporter": "python",
   "pygments_lexer": "ipython3",
   "version": "3.8.3"
  }
 },
 "nbformat": 4,
 "nbformat_minor": 4
}
