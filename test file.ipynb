{
 "cells": [
  {
   "cell_type": "code",
   "execution_count": 19,
   "metadata": {},
   "outputs": [],
   "source": [
    "a=open('tex1.text','w')\n",
    "a.write('hello worled')\n",
    "a.write('\\nhello worled')\n",
    "a.write('\\nhello worled')\n",
    "a.write('\\nhello worled')\n",
    "a.write('\\nhello worled')\n",
    "a.close()"
   ]
  },
  {
   "cell_type": "code",
   "execution_count": 20,
   "metadata": {},
   "outputs": [
    {
     "name": "stdout",
     "output_type": "stream",
     "text": [
      "hello worled\n",
      "hello worled\n",
      "hello worled\n",
      "hello worled\n",
      "hello worled\n"
     ]
    }
   ],
   "source": [
    "a=open('tex1.text','r')\n",
    "print(a.read())"
   ]
  },
  {
   "cell_type": "code",
   "execution_count": 21,
   "metadata": {},
   "outputs": [
    {
     "data": {
      "text/plain": [
       "0"
      ]
     },
     "execution_count": 21,
     "metadata": {},
     "output_type": "execute_result"
    }
   ],
   "source": [
    "a.seek(0)"
   ]
  },
  {
   "cell_type": "code",
   "execution_count": 22,
   "metadata": {},
   "outputs": [
    {
     "name": "stdout",
     "output_type": "stream",
     "text": [
      "['hello worled\\n', 'hello worled\\n', 'hello worled\\n', 'hello worled\\n', 'hello worled']\n"
     ]
    }
   ],
   "source": [
    "my_lines = a.readlines()\n",
    "print(my_lines)\n"
   ]
  },
  {
   "cell_type": "code",
   "execution_count": 23,
   "metadata": {},
   "outputs": [
    {
     "data": {
      "text/plain": [
       "['hello worled\\n',\n",
       " 'hello worled\\n',\n",
       " 'hello worled\\n',\n",
       " 'hello worled\\n',\n",
       " 'hello worled']"
      ]
     },
     "execution_count": 23,
     "metadata": {},
     "output_type": "execute_result"
    }
   ],
   "source": [
    "my_lines"
   ]
  },
  {
   "cell_type": "code",
   "execution_count": 24,
   "metadata": {},
   "outputs": [
    {
     "name": "stdout",
     "output_type": "stream",
     "text": [
      "HELLO WORLED\n",
      "\n",
      "HELLO WORLED\n",
      "\n",
      "HELLO WORLED\n",
      "\n",
      "HELLO WORLED\n",
      "\n",
      "HELLO WORLED\n"
     ]
    }
   ],
   "source": [
    "for line in open('tex1.text'):\n",
    "    print(line.upper())"
   ]
  },
  {
   "cell_type": "code",
   "execution_count": 25,
   "metadata": {},
   "outputs": [
    {
     "data": {
      "text/plain": [
       "'Hello worled\\n'"
      ]
     },
     "execution_count": 25,
     "metadata": {},
     "output_type": "execute_result"
    }
   ],
   "source": [
    "my_lines[3].capitalize()"
   ]
  },
  {
   "cell_type": "code",
   "execution_count": 28,
   "metadata": {},
   "outputs": [],
   "source": [
    "f=open('tex1.text','a')\n",
    "f.write('\\nI Love python')\n",
    "f.close()"
   ]
  },
  {
   "cell_type": "code",
   "execution_count": 29,
   "metadata": {},
   "outputs": [
    {
     "name": "stdout",
     "output_type": "stream",
     "text": [
      "hello worled\n",
      "hello worled\n",
      "hello worled\n",
      "hello worled\n",
      "hello worledI Love pythonI Love python\n",
      "I Love python\n"
     ]
    }
   ],
   "source": [
    "f=open('tex1.text','r')\n",
    "print(f.read())"
   ]
  },
  {
   "cell_type": "code",
   "execution_count": null,
   "metadata": {},
   "outputs": [],
   "source": []
  }
 ],
 "metadata": {
  "kernelspec": {
   "display_name": "Python 3",
   "language": "python",
   "name": "python3"
  },
  "language_info": {
   "codemirror_mode": {
    "name": "ipython",
    "version": 3
   },
   "file_extension": ".py",
   "mimetype": "text/x-python",
   "name": "python",
   "nbconvert_exporter": "python",
   "pygments_lexer": "ipython3",
   "version": "3.7.6"
  }
 },
 "nbformat": 4,
 "nbformat_minor": 4
}
