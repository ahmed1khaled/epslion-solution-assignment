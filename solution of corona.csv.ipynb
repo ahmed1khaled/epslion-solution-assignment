{
 "cells": [
  {
   "cell_type": "code",
   "execution_count": 1,
   "metadata": {},
   "outputs": [],
   "source": [
    "import numpy as np\n",
    "import pandas as pd\n",
    "import seaborn as sns\n",
    "import  matplotlib.pyplot as plt\n",
    "from sklearn.model_selection import train_test_split\n",
    "sns.set(rc={'figure.figsize': [10, 10]}, font_scale=1.3)"
   ]
  },
  {
   "cell_type": "code",
   "execution_count": 2,
   "metadata": {},
   "outputs": [
    {
     "data": {
      "text/html": [
       "<div>\n",
       "<style scoped>\n",
       "    .dataframe tbody tr th:only-of-type {\n",
       "        vertical-align: middle;\n",
       "    }\n",
       "\n",
       "    .dataframe tbody tr th {\n",
       "        vertical-align: top;\n",
       "    }\n",
       "\n",
       "    .dataframe thead th {\n",
       "        text-align: right;\n",
       "    }\n",
       "</style>\n",
       "<table border=\"1\" class=\"dataframe\">\n",
       "  <thead>\n",
       "    <tr style=\"text-align: right;\">\n",
       "      <th></th>\n",
       "      <th>id</th>\n",
       "      <th>case_in_country</th>\n",
       "      <th>reporting date</th>\n",
       "      <th>Unnamed: 3</th>\n",
       "      <th>summary</th>\n",
       "      <th>location</th>\n",
       "      <th>country</th>\n",
       "      <th>gender</th>\n",
       "      <th>age</th>\n",
       "      <th>symptom_onset</th>\n",
       "      <th>...</th>\n",
       "      <th>recovered</th>\n",
       "      <th>symptom</th>\n",
       "      <th>source</th>\n",
       "      <th>link</th>\n",
       "      <th>Unnamed: 21</th>\n",
       "      <th>Unnamed: 22</th>\n",
       "      <th>Unnamed: 23</th>\n",
       "      <th>Unnamed: 24</th>\n",
       "      <th>Unnamed: 25</th>\n",
       "      <th>Unnamed: 26</th>\n",
       "    </tr>\n",
       "  </thead>\n",
       "  <tbody>\n",
       "    <tr>\n",
       "      <th>0</th>\n",
       "      <td>1</td>\n",
       "      <td>NaN</td>\n",
       "      <td>1/20/2020</td>\n",
       "      <td>NaN</td>\n",
       "      <td>First confirmed imported COVID-19 pneumonia pa...</td>\n",
       "      <td>Shenzhen, Guangdong</td>\n",
       "      <td>China</td>\n",
       "      <td>male</td>\n",
       "      <td>66.0</td>\n",
       "      <td>01/03/20</td>\n",
       "      <td>...</td>\n",
       "      <td>0</td>\n",
       "      <td>NaN</td>\n",
       "      <td>Shenzhen Municipal Health Commission</td>\n",
       "      <td>http://wjw.sz.gov.cn/wzx/202001/t20200120_1898...</td>\n",
       "      <td>NaN</td>\n",
       "      <td>NaN</td>\n",
       "      <td>NaN</td>\n",
       "      <td>NaN</td>\n",
       "      <td>NaN</td>\n",
       "      <td>NaN</td>\n",
       "    </tr>\n",
       "    <tr>\n",
       "      <th>1</th>\n",
       "      <td>2</td>\n",
       "      <td>NaN</td>\n",
       "      <td>1/20/2020</td>\n",
       "      <td>NaN</td>\n",
       "      <td>First confirmed imported COVID-19 pneumonia pa...</td>\n",
       "      <td>Shanghai</td>\n",
       "      <td>China</td>\n",
       "      <td>female</td>\n",
       "      <td>56.0</td>\n",
       "      <td>1/15/2020</td>\n",
       "      <td>...</td>\n",
       "      <td>0</td>\n",
       "      <td>NaN</td>\n",
       "      <td>Official Weibo of Shanghai Municipal Health Co...</td>\n",
       "      <td>https://www.weibo.com/2372649470/IqogQhgfa?fro...</td>\n",
       "      <td>NaN</td>\n",
       "      <td>NaN</td>\n",
       "      <td>NaN</td>\n",
       "      <td>NaN</td>\n",
       "      <td>NaN</td>\n",
       "      <td>NaN</td>\n",
       "    </tr>\n",
       "    <tr>\n",
       "      <th>2</th>\n",
       "      <td>3</td>\n",
       "      <td>NaN</td>\n",
       "      <td>1/21/2020</td>\n",
       "      <td>NaN</td>\n",
       "      <td>First confirmed imported cases in Zhejiang: pa...</td>\n",
       "      <td>Zhejiang</td>\n",
       "      <td>China</td>\n",
       "      <td>male</td>\n",
       "      <td>46.0</td>\n",
       "      <td>01/04/20</td>\n",
       "      <td>...</td>\n",
       "      <td>0</td>\n",
       "      <td>NaN</td>\n",
       "      <td>Health Commission of Zhejiang Province</td>\n",
       "      <td>http://www.zjwjw.gov.cn/art/2020/1/21/art_1202...</td>\n",
       "      <td>NaN</td>\n",
       "      <td>NaN</td>\n",
       "      <td>NaN</td>\n",
       "      <td>NaN</td>\n",
       "      <td>NaN</td>\n",
       "      <td>NaN</td>\n",
       "    </tr>\n",
       "    <tr>\n",
       "      <th>3</th>\n",
       "      <td>4</td>\n",
       "      <td>NaN</td>\n",
       "      <td>1/21/2020</td>\n",
       "      <td>NaN</td>\n",
       "      <td>new confirmed imported COVID-19 pneumonia in T...</td>\n",
       "      <td>Tianjin</td>\n",
       "      <td>China</td>\n",
       "      <td>female</td>\n",
       "      <td>60.0</td>\n",
       "      <td>NaN</td>\n",
       "      <td>...</td>\n",
       "      <td>0</td>\n",
       "      <td>NaN</td>\n",
       "      <td>人民日报官方微博</td>\n",
       "      <td>https://m.weibo.cn/status/4463235401268457?</td>\n",
       "      <td>NaN</td>\n",
       "      <td>NaN</td>\n",
       "      <td>NaN</td>\n",
       "      <td>NaN</td>\n",
       "      <td>NaN</td>\n",
       "      <td>NaN</td>\n",
       "    </tr>\n",
       "    <tr>\n",
       "      <th>4</th>\n",
       "      <td>5</td>\n",
       "      <td>NaN</td>\n",
       "      <td>1/21/2020</td>\n",
       "      <td>NaN</td>\n",
       "      <td>new confirmed imported COVID-19 pneumonia in T...</td>\n",
       "      <td>Tianjin</td>\n",
       "      <td>China</td>\n",
       "      <td>male</td>\n",
       "      <td>58.0</td>\n",
       "      <td>NaN</td>\n",
       "      <td>...</td>\n",
       "      <td>0</td>\n",
       "      <td>NaN</td>\n",
       "      <td>人民日报官方微博</td>\n",
       "      <td>https://m.weibo.cn/status/4463235401268457?</td>\n",
       "      <td>NaN</td>\n",
       "      <td>NaN</td>\n",
       "      <td>NaN</td>\n",
       "      <td>NaN</td>\n",
       "      <td>NaN</td>\n",
       "      <td>NaN</td>\n",
       "    </tr>\n",
       "    <tr>\n",
       "      <th>...</th>\n",
       "      <td>...</td>\n",
       "      <td>...</td>\n",
       "      <td>...</td>\n",
       "      <td>...</td>\n",
       "      <td>...</td>\n",
       "      <td>...</td>\n",
       "      <td>...</td>\n",
       "      <td>...</td>\n",
       "      <td>...</td>\n",
       "      <td>...</td>\n",
       "      <td>...</td>\n",
       "      <td>...</td>\n",
       "      <td>...</td>\n",
       "      <td>...</td>\n",
       "      <td>...</td>\n",
       "      <td>...</td>\n",
       "      <td>...</td>\n",
       "      <td>...</td>\n",
       "      <td>...</td>\n",
       "      <td>...</td>\n",
       "      <td>...</td>\n",
       "    </tr>\n",
       "    <tr>\n",
       "      <th>1080</th>\n",
       "      <td>1081</td>\n",
       "      <td>2.0</td>\n",
       "      <td>2/25/2020</td>\n",
       "      <td>NaN</td>\n",
       "      <td>new COVID-19 patient confirmed in Austria: 24,...</td>\n",
       "      <td>Innsbruck</td>\n",
       "      <td>Austria</td>\n",
       "      <td>NaN</td>\n",
       "      <td>24.0</td>\n",
       "      <td>NaN</td>\n",
       "      <td>...</td>\n",
       "      <td>0</td>\n",
       "      <td>NaN</td>\n",
       "      <td>Jakarta Post</td>\n",
       "      <td>https://www.thejakartapost.com/news/2020/02/25...</td>\n",
       "      <td>NaN</td>\n",
       "      <td>NaN</td>\n",
       "      <td>NaN</td>\n",
       "      <td>NaN</td>\n",
       "      <td>NaN</td>\n",
       "      <td>NaN</td>\n",
       "    </tr>\n",
       "    <tr>\n",
       "      <th>1081</th>\n",
       "      <td>1082</td>\n",
       "      <td>1.0</td>\n",
       "      <td>2/24/2020</td>\n",
       "      <td>NaN</td>\n",
       "      <td>new COVID-19 patient confirmed in Afghanistan:...</td>\n",
       "      <td>Afghanistan</td>\n",
       "      <td>Afghanistan</td>\n",
       "      <td>NaN</td>\n",
       "      <td>35.0</td>\n",
       "      <td>NaN</td>\n",
       "      <td>...</td>\n",
       "      <td>0</td>\n",
       "      <td>NaN</td>\n",
       "      <td>Fox News</td>\n",
       "      <td>https://www.foxnews.com/health/afghanistan-fir...</td>\n",
       "      <td>NaN</td>\n",
       "      <td>NaN</td>\n",
       "      <td>NaN</td>\n",
       "      <td>NaN</td>\n",
       "      <td>NaN</td>\n",
       "      <td>NaN</td>\n",
       "    </tr>\n",
       "    <tr>\n",
       "      <th>1082</th>\n",
       "      <td>1083</td>\n",
       "      <td>1.0</td>\n",
       "      <td>2/26/2020</td>\n",
       "      <td>NaN</td>\n",
       "      <td>new COVID-19 patient confirmed in Algeria: mal...</td>\n",
       "      <td>Algeria</td>\n",
       "      <td>Algeria</td>\n",
       "      <td>male</td>\n",
       "      <td>NaN</td>\n",
       "      <td>NaN</td>\n",
       "      <td>...</td>\n",
       "      <td>0</td>\n",
       "      <td>NaN</td>\n",
       "      <td>South China Morning Post</td>\n",
       "      <td>https://www.scmp.com/news/china/society/articl...</td>\n",
       "      <td>NaN</td>\n",
       "      <td>NaN</td>\n",
       "      <td>NaN</td>\n",
       "      <td>NaN</td>\n",
       "      <td>NaN</td>\n",
       "      <td>NaN</td>\n",
       "    </tr>\n",
       "    <tr>\n",
       "      <th>1083</th>\n",
       "      <td>1084</td>\n",
       "      <td>1.0</td>\n",
       "      <td>2/25/2020</td>\n",
       "      <td>NaN</td>\n",
       "      <td>new COVID-19 patient confirmed in Croatia: mal...</td>\n",
       "      <td>Croatia</td>\n",
       "      <td>Croatia</td>\n",
       "      <td>male</td>\n",
       "      <td>NaN</td>\n",
       "      <td>NaN</td>\n",
       "      <td>...</td>\n",
       "      <td>0</td>\n",
       "      <td>NaN</td>\n",
       "      <td>Reuters</td>\n",
       "      <td>https://www.reuters.com/article/us-croatia-cor...</td>\n",
       "      <td>NaN</td>\n",
       "      <td>NaN</td>\n",
       "      <td>NaN</td>\n",
       "      <td>NaN</td>\n",
       "      <td>NaN</td>\n",
       "      <td>NaN</td>\n",
       "    </tr>\n",
       "    <tr>\n",
       "      <th>1084</th>\n",
       "      <td>1085</td>\n",
       "      <td>1.0</td>\n",
       "      <td>2/25/2020</td>\n",
       "      <td>NaN</td>\n",
       "      <td>new COVID-19 patient confirmed in Switzerland:...</td>\n",
       "      <td>Bern</td>\n",
       "      <td>Switzerland</td>\n",
       "      <td>male</td>\n",
       "      <td>70.0</td>\n",
       "      <td>2/17/2020</td>\n",
       "      <td>...</td>\n",
       "      <td>0</td>\n",
       "      <td>NaN</td>\n",
       "      <td>Reuters</td>\n",
       "      <td>https://www.reuters.com/article/uk-switzerland...</td>\n",
       "      <td>NaN</td>\n",
       "      <td>NaN</td>\n",
       "      <td>NaN</td>\n",
       "      <td>NaN</td>\n",
       "      <td>NaN</td>\n",
       "      <td>NaN</td>\n",
       "    </tr>\n",
       "  </tbody>\n",
       "</table>\n",
       "<p>1085 rows × 27 columns</p>\n",
       "</div>"
      ],
      "text/plain": [
       "        id  case_in_country reporting date  Unnamed: 3  \\\n",
       "0        1              NaN      1/20/2020         NaN   \n",
       "1        2              NaN      1/20/2020         NaN   \n",
       "2        3              NaN      1/21/2020         NaN   \n",
       "3        4              NaN      1/21/2020         NaN   \n",
       "4        5              NaN      1/21/2020         NaN   \n",
       "...    ...              ...            ...         ...   \n",
       "1080  1081              2.0      2/25/2020         NaN   \n",
       "1081  1082              1.0      2/24/2020         NaN   \n",
       "1082  1083              1.0      2/26/2020         NaN   \n",
       "1083  1084              1.0      2/25/2020         NaN   \n",
       "1084  1085              1.0      2/25/2020         NaN   \n",
       "\n",
       "                                                summary             location  \\\n",
       "0     First confirmed imported COVID-19 pneumonia pa...  Shenzhen, Guangdong   \n",
       "1     First confirmed imported COVID-19 pneumonia pa...             Shanghai   \n",
       "2     First confirmed imported cases in Zhejiang: pa...             Zhejiang   \n",
       "3     new confirmed imported COVID-19 pneumonia in T...              Tianjin   \n",
       "4     new confirmed imported COVID-19 pneumonia in T...              Tianjin   \n",
       "...                                                 ...                  ...   \n",
       "1080  new COVID-19 patient confirmed in Austria: 24,...            Innsbruck   \n",
       "1081  new COVID-19 patient confirmed in Afghanistan:...          Afghanistan   \n",
       "1082  new COVID-19 patient confirmed in Algeria: mal...              Algeria   \n",
       "1083  new COVID-19 patient confirmed in Croatia: mal...              Croatia   \n",
       "1084  new COVID-19 patient confirmed in Switzerland:...                 Bern   \n",
       "\n",
       "          country  gender   age symptom_onset  ...  recovered symptom  \\\n",
       "0           China    male  66.0      01/03/20  ...          0     NaN   \n",
       "1           China  female  56.0     1/15/2020  ...          0     NaN   \n",
       "2           China    male  46.0      01/04/20  ...          0     NaN   \n",
       "3           China  female  60.0           NaN  ...          0     NaN   \n",
       "4           China    male  58.0           NaN  ...          0     NaN   \n",
       "...           ...     ...   ...           ...  ...        ...     ...   \n",
       "1080      Austria     NaN  24.0           NaN  ...          0     NaN   \n",
       "1081  Afghanistan     NaN  35.0           NaN  ...          0     NaN   \n",
       "1082      Algeria    male   NaN           NaN  ...          0     NaN   \n",
       "1083      Croatia    male   NaN           NaN  ...          0     NaN   \n",
       "1084  Switzerland    male  70.0     2/17/2020  ...          0     NaN   \n",
       "\n",
       "                                                 source  \\\n",
       "0                  Shenzhen Municipal Health Commission   \n",
       "1     Official Weibo of Shanghai Municipal Health Co...   \n",
       "2                Health Commission of Zhejiang Province   \n",
       "3                                              人民日报官方微博   \n",
       "4                                              人民日报官方微博   \n",
       "...                                                 ...   \n",
       "1080                                       Jakarta Post   \n",
       "1081                                           Fox News   \n",
       "1082                           South China Morning Post   \n",
       "1083                                            Reuters   \n",
       "1084                                            Reuters   \n",
       "\n",
       "                                                   link  Unnamed: 21  \\\n",
       "0     http://wjw.sz.gov.cn/wzx/202001/t20200120_1898...          NaN   \n",
       "1     https://www.weibo.com/2372649470/IqogQhgfa?fro...          NaN   \n",
       "2     http://www.zjwjw.gov.cn/art/2020/1/21/art_1202...          NaN   \n",
       "3           https://m.weibo.cn/status/4463235401268457?          NaN   \n",
       "4           https://m.weibo.cn/status/4463235401268457?          NaN   \n",
       "...                                                 ...          ...   \n",
       "1080  https://www.thejakartapost.com/news/2020/02/25...          NaN   \n",
       "1081  https://www.foxnews.com/health/afghanistan-fir...          NaN   \n",
       "1082  https://www.scmp.com/news/china/society/articl...          NaN   \n",
       "1083  https://www.reuters.com/article/us-croatia-cor...          NaN   \n",
       "1084  https://www.reuters.com/article/uk-switzerland...          NaN   \n",
       "\n",
       "      Unnamed: 22 Unnamed: 23 Unnamed: 24 Unnamed: 25 Unnamed: 26  \n",
       "0             NaN         NaN         NaN         NaN         NaN  \n",
       "1             NaN         NaN         NaN         NaN         NaN  \n",
       "2             NaN         NaN         NaN         NaN         NaN  \n",
       "3             NaN         NaN         NaN         NaN         NaN  \n",
       "4             NaN         NaN         NaN         NaN         NaN  \n",
       "...           ...         ...         ...         ...         ...  \n",
       "1080          NaN         NaN         NaN         NaN         NaN  \n",
       "1081          NaN         NaN         NaN         NaN         NaN  \n",
       "1082          NaN         NaN         NaN         NaN         NaN  \n",
       "1083          NaN         NaN         NaN         NaN         NaN  \n",
       "1084          NaN         NaN         NaN         NaN         NaN  \n",
       "\n",
       "[1085 rows x 27 columns]"
      ]
     },
     "execution_count": 2,
     "metadata": {},
     "output_type": "execute_result"
    }
   ],
   "source": [
    "df=pd.read_csv('corona.csv')\n",
    "df"
   ]
  },
  {
   "cell_type": "code",
   "execution_count": 3,
   "metadata": {},
   "outputs": [
    {
     "name": "stdout",
     "output_type": "stream",
     "text": [
      "<class 'pandas.core.frame.DataFrame'>\n",
      "RangeIndex: 1085 entries, 0 to 1084\n",
      "Data columns (total 27 columns):\n",
      " #   Column                 Non-Null Count  Dtype  \n",
      "---  ------                 --------------  -----  \n",
      " 0   id                     1085 non-null   int64  \n",
      " 1   case_in_country        888 non-null    float64\n",
      " 2   reporting date         1084 non-null   object \n",
      " 3   Unnamed: 3             0 non-null      float64\n",
      " 4   summary                1080 non-null   object \n",
      " 5   location               1085 non-null   object \n",
      " 6   country                1085 non-null   object \n",
      " 7   gender                 902 non-null    object \n",
      " 8   age                    843 non-null    float64\n",
      " 9   symptom_onset          563 non-null    object \n",
      " 10  If_onset_approximated  560 non-null    float64\n",
      " 11  hosp_visit_date        507 non-null    object \n",
      " 12  exposure_start         128 non-null    object \n",
      " 13  exposure_end           341 non-null    object \n",
      " 14  visiting Wuhan         1085 non-null   int64  \n",
      " 15  from Wuhan             1081 non-null   float64\n",
      " 16  death                  1085 non-null   object \n",
      " 17  recovered              1085 non-null   object \n",
      " 18  symptom                270 non-null    object \n",
      " 19  source                 1085 non-null   object \n",
      " 20  link                   1085 non-null   object \n",
      " 21  Unnamed: 21            0 non-null      float64\n",
      " 22  Unnamed: 22            0 non-null      float64\n",
      " 23  Unnamed: 23            0 non-null      float64\n",
      " 24  Unnamed: 24            0 non-null      float64\n",
      " 25  Unnamed: 25            0 non-null      float64\n",
      " 26  Unnamed: 26            0 non-null      float64\n",
      "dtypes: float64(11), int64(2), object(14)\n",
      "memory usage: 229.0+ KB\n"
     ]
    }
   ],
   "source": [
    "df.info()"
   ]
  },
  {
   "cell_type": "code",
   "execution_count": 4,
   "metadata": {
    "scrolled": true
   },
   "outputs": [
    {
     "data": {
      "text/plain": [
       "id                          0\n",
       "case_in_country           197\n",
       "reporting date              1\n",
       "Unnamed: 3               1085\n",
       "summary                     5\n",
       "location                    0\n",
       "country                     0\n",
       "gender                    183\n",
       "age                       242\n",
       "symptom_onset             522\n",
       "If_onset_approximated     525\n",
       "hosp_visit_date           578\n",
       "exposure_start            957\n",
       "exposure_end              744\n",
       "visiting Wuhan              0\n",
       "from Wuhan                  4\n",
       "death                       0\n",
       "recovered                   0\n",
       "symptom                   815\n",
       "source                      0\n",
       "link                        0\n",
       "Unnamed: 21              1085\n",
       "Unnamed: 22              1085\n",
       "Unnamed: 23              1085\n",
       "Unnamed: 24              1085\n",
       "Unnamed: 25              1085\n",
       "Unnamed: 26              1085\n",
       "dtype: int64"
      ]
     },
     "execution_count": 4,
     "metadata": {},
     "output_type": "execute_result"
    }
   ],
   "source": [
    "df.isnull().sum()"
   ]
  },
  {
   "cell_type": "code",
   "execution_count": 5,
   "metadata": {},
   "outputs": [
    {
     "name": "stdout",
     "output_type": "stream",
     "text": [
      "name is id\n",
      "1085    1\n",
      "356     1\n",
      "370     1\n",
      "369     1\n",
      "368     1\n",
      "       ..\n",
      "718     1\n",
      "717     1\n",
      "716     1\n",
      "715     1\n",
      "1       1\n",
      "Name: id, Length: 1085, dtype: int64\n",
      "\n",
      "\n",
      "name is case_in_country\n",
      "1.0      37\n",
      "2.0      24\n",
      "3.0      22\n",
      "6.0      19\n",
      "9.0      19\n",
      "         ..\n",
      "149.0     1\n",
      "147.0     1\n",
      "141.0     1\n",
      "135.0     1\n",
      "140.0     1\n",
      "Name: case_in_country, Length: 197, dtype: int64\n",
      "\n",
      "\n",
      "name is reporting date\n",
      "2/27/2020    91\n",
      "2/20/2020    73\n",
      "1/22/2020    61\n",
      "2/26/2020    54\n",
      "1/25/2020    52\n",
      "2/25/2020    46\n",
      "2/19/2020    42\n",
      "1/24/2020    41\n",
      "2/21/2020    35\n",
      "2/24/2020    33\n",
      "2/22/2020    31\n",
      "1/31/2020    28\n",
      "1/27/2020    28\n",
      "02/08/20     26\n",
      "2/23/2020    26\n",
      "2/28/2020    25\n",
      "02/06/20     24\n",
      "1/23/2020    24\n",
      "1/26/2020    24\n",
      "02/04/20     24\n",
      "1/30/2020    23\n",
      "02/05/20     22\n",
      "2/14/2020    21\n",
      "1/29/2020    20\n",
      "02/10/20     19\n",
      "02/09/20     19\n",
      "1/28/2020    18\n",
      "1/21/2020    18\n",
      "2/13/2020    18\n",
      "2/16/2020    16\n",
      "2/17/2020    14\n",
      "2/15/2020    13\n",
      "02/11/20     13\n",
      "2/18/2020    13\n",
      "02/01/20     12\n",
      "02/02/20     10\n",
      "02/07/20      8\n",
      "02/03/20      7\n",
      "02/12/20      6\n",
      "1/20/2020     3\n",
      "1/17/2020     1\n",
      "1/15/2020     1\n",
      "1/13/2020     1\n",
      "Name: reporting date, dtype: int64\n",
      "\n",
      "\n",
      "name is Unnamed: 3\n",
      "Series([], Name: Unnamed: 3, dtype: int64)\n",
      "\n",
      "\n",
      "name is summary\n",
      "new confirmed COVID-19 patient in South Korea:                                                                                                                                                                                                                 22\n",
      "new confirmed COVID-19 patient in Germany: NRW                                                                                                                                                                                                                 14\n",
      "new confirmed COVID-19 patient in Iran: Qom                                                                                                                                                                                                                     9\n",
      "new confirmed COVID-19 patient in Kuwait: returned from Iran                                                                                                                                                                                                    8\n",
      "new confirmed COVID-19 patient in Thailand: Chinese national                                                                                                                                                                                                    5\n",
      "                                                                                                                                                                                                                                                               ..\n",
      "new confirmed COVID-19 patient in Japan: Hokkaido, male, 80s, fever and cough 2/24, went to doctor 2/24                                                                                                                                                         1\n",
      "new confirmed COVID-19 patient in Toronto, Canada: female, in her 50s, has been in self-isolation at home since husband confirmed, arrived on 1/22/2020 after visiting Wuhan                                                                                    1\n",
      "new confirmed COVID-19 patient in Spain: Zaragoza, 27 female, had traveled to Milan                                                                                                                                                                             1\n",
      "new confirmed COVID-19 patient in South Korea: female, 40, married to 2/1-No.1, admitted to Seoul hospital                                                                                                                                                      1\n",
      "new confirmed COVID-19 patient in South Korea: female, 35, Wuhan resident, arrived in Incheon international airport on 1/19/2020, isolated on entering South Korea with symptoms, symptom onset 1/18/2020 (high fever, chills, muscle pain), discharged 2/6     1\n",
      "Name: summary, Length: 967, dtype: int64\n",
      "\n",
      "\n",
      "name is location\n",
      "South Korea      112\n",
      "Singapore         93\n",
      "Hong Kong         80\n",
      "Hokkaido          48\n",
      "Thailand          41\n",
      "                ... \n",
      "Texas              1\n",
      "Croatia            1\n",
      "Egypt              1\n",
      "Massachusetts      1\n",
      "Israel             1\n",
      "Name: location, Length: 156, dtype: int64\n",
      "\n",
      "\n",
      "name is country\n",
      "China          197\n",
      "Japan          190\n",
      "South Korea    114\n",
      "Hong Kong       94\n",
      "Singapore       93\n",
      "Germany         54\n",
      "Thailand        41\n",
      "France          39\n",
      "Taiwan          34\n",
      "Spain           34\n",
      "Malaysia        23\n",
      "UAE             21\n",
      "UK              20\n",
      "USA             18\n",
      "Iran            18\n",
      "Bahrain         17\n",
      "Vietnam         16\n",
      "Australia       15\n",
      "Canada          12\n",
      "Kuwait           9\n",
      "India            3\n",
      "Italy            3\n",
      "Phillipines      3\n",
      "Russia           2\n",
      "Austria          2\n",
      "Croatia          1\n",
      "Cambodia         1\n",
      "Israel           1\n",
      "Nepal            1\n",
      "Sri Lanka        1\n",
      "Algeria          1\n",
      "Sweden           1\n",
      "Afghanistan      1\n",
      "Switzerland      1\n",
      "Finland          1\n",
      "Belgium          1\n",
      "Lebanon          1\n",
      "Egypt            1\n",
      "Name: country, dtype: int64\n",
      "\n",
      "\n",
      "name is gender\n",
      "male      520\n",
      "female    382\n",
      "Name: gender, dtype: int64\n",
      "\n",
      "\n",
      "name is age\n",
      "55.0    72\n",
      "65.0    52\n",
      "45.0    39\n",
      "75.0    37\n",
      "35.0    36\n",
      "        ..\n",
      "1.0      1\n",
      "0.5      1\n",
      "87.0     1\n",
      "84.0     1\n",
      "91.0     1\n",
      "Name: age, Length: 85, dtype: int64\n",
      "\n",
      "\n",
      "name is symptom_onset\n",
      "1/23/2020     27\n",
      "1/25/2020     22\n",
      "1/24/2020     21\n",
      "1/30/2020     19\n",
      "02/03/20      18\n",
      "              ..\n",
      "12/22/2019     1\n",
      "12/10/19       1\n",
      "01/07/20       1\n",
      "01/13/2020     1\n",
      "01/15/2020     1\n",
      "Name: symptom_onset, Length: 70, dtype: int64\n",
      "\n",
      "\n",
      "name is If_onset_approximated\n",
      "0.0    536\n",
      "1.0     24\n",
      "Name: If_onset_approximated, dtype: int64\n",
      "\n",
      "\n",
      "name is hosp_visit_date\n",
      "1/23/2020     34\n",
      "1/24/2020     30\n",
      "1/21/2020     20\n",
      "2/17/2020     20\n",
      "1/20/2020     19\n",
      "1/25/2020     18\n",
      "02/03/20      17\n",
      "1/22/2020     16\n",
      "02/10/20      15\n",
      "1/19/2020     15\n",
      "1/30/2020     15\n",
      "2/25/2020     14\n",
      "2/24/2020     13\n",
      "02/01/20      12\n",
      "2/21/2020     12\n",
      "2/22/2020     12\n",
      "02/07/20      11\n",
      "1/28/2020     10\n",
      "1/17/2020     10\n",
      "02/04/20      10\n",
      "2/18/2020      9\n",
      "02/12/20       8\n",
      "1/13/2020      8\n",
      "1/31/2020      8\n",
      "2/26/2020      8\n",
      "1/26/2020      8\n",
      "02/02/20       8\n",
      "2/19/2020      8\n",
      "1/29/2020      8\n",
      "02/06/20       8\n",
      "02/09/20       7\n",
      "1/27/2020      7\n",
      "2/13/2020      7\n",
      "02/05/20       6\n",
      "2/20/2020      6\n",
      "2/23/2020      6\n",
      "02/08/20       5\n",
      "1/18/2020      5\n",
      "2/14/2020      5\n",
      "2/15/2020      5\n",
      "01/11/20       5\n",
      "1/15/2020      5\n",
      "02/11/20       5\n",
      "2/16/2020      4\n",
      "1/14/2020      4\n",
      "01/09/20       3\n",
      "1/16/2020      3\n",
      "2/27/2020      2\n",
      "01/06/20       2\n",
      "01/08/20       1\n",
      "01/03/20       1\n",
      "01/01/20       1\n",
      "2/22/20        1\n",
      "12/31/2019     1\n",
      "12/27/2019     1\n",
      "2//2020        1\n",
      "01/05/20       1\n",
      "01/12/20       1\n",
      "2/28/2020      1\n",
      "01/10/20       1\n",
      "Name: hosp_visit_date, dtype: int64\n",
      "\n",
      "\n",
      "name is exposure_start\n",
      "1/26/2020     14\n",
      "1/24/2020     12\n",
      "1/20/2020      8\n",
      "1/25/2020      7\n",
      "1/23/2020      6\n",
      "01/12/20       6\n",
      "1/22/2020      6\n",
      "2/19/2020      5\n",
      "01/11/20       5\n",
      "1/19/2020      5\n",
      "01/10/20       5\n",
      "1/18/2020      4\n",
      "1/13/2020      4\n",
      "1/15/2020      3\n",
      "01/09/20       3\n",
      "2/15/2020      3\n",
      "01/08/20       3\n",
      "1/21/2020      3\n",
      "1/27/2020      2\n",
      "01/03/20       2\n",
      "01/13/2020     2\n",
      "02/12/20       2\n",
      "1/17/2020      2\n",
      "2/21/2020      1\n",
      "12/17/2019     1\n",
      "1/14/2020      1\n",
      "12/20/2019     1\n",
      "2/17/2020      1\n",
      "01/19/2020     1\n",
      "12/29/2019     1\n",
      "2/20/2020      1\n",
      "02/11/20       1\n",
      "02/04/20       1\n",
      "01/06/20       1\n",
      "02/10/20       1\n",
      "12/24/2019     1\n",
      "1/28/2020      1\n",
      "1/16/2020      1\n",
      "1/30/2020      1\n",
      "Name: exposure_start, dtype: int64\n",
      "\n",
      "\n",
      "name is exposure_end\n",
      "1/22/2020     34\n",
      "1/23/2020     27\n",
      "1/20/2020     26\n",
      "1/21/2020     25\n",
      "1/19/2020     19\n",
      "1/18/2020     16\n",
      "1/28/2020     15\n",
      "1/17/2020     15\n",
      "1/26/2020     14\n",
      "1/15/2020     12\n",
      "1/16/2020     10\n",
      "1/30/2020     10\n",
      "2/21/2020      9\n",
      "1/31/2020      8\n",
      "1/13/2020      8\n",
      "1/24/2020      6\n",
      "01/12/20       6\n",
      "1/14/2020      5\n",
      "02/04/20       5\n",
      "2/22/2020      4\n",
      "02/02/20       4\n",
      "1/25/2020      4\n",
      "01/11/20       4\n",
      "1/27/2020      4\n",
      "01/10/20       3\n",
      "02/03/20       3\n",
      "01/08/20       3\n",
      "02/07/20       3\n",
      "02/01/20       3\n",
      "2/15/2020      3\n",
      "2/20/2020      3\n",
      "2/19/2020      3\n",
      "01/18/2020     2\n",
      "1/29/2020      2\n",
      "01/04/20       2\n",
      "02/09/20       2\n",
      "2/18/2020      2\n",
      "2/17/2020      2\n",
      "2/23/2020      2\n",
      "01/09/20       1\n",
      "02/08/20       1\n",
      "01/07/20       1\n",
      "01/06/20       1\n",
      "01/22/2020     1\n",
      "01/05/20       1\n",
      "2/16/2020      1\n",
      "01/03/20       1\n",
      "2/24/2020      1\n",
      "2/13/2020      1\n",
      "01/02/20       1\n",
      "02/05/20       1\n",
      "2/25/2020      1\n",
      "Name: exposure_end, dtype: int64\n",
      "\n",
      "\n",
      "name is visiting Wuhan\n",
      "0    893\n",
      "1    192\n",
      "Name: visiting Wuhan, dtype: int64\n",
      "\n",
      "\n",
      "name is from Wuhan\n",
      "0.0    925\n",
      "1.0    156\n",
      "Name: from Wuhan, dtype: int64\n",
      "\n",
      "\n",
      "name is death\n",
      "0            1022\n",
      "1              42\n",
      "2/23/2020       4\n",
      "2/26/2020       3\n",
      "2/21/2020       2\n",
      "2/25/2020       2\n",
      "2/27/2020       2\n",
      "2/19/2020       2\n",
      "2/13/2020       1\n",
      "02/01/20        1\n",
      "2/28/2020       1\n",
      "2/22/2020       1\n",
      "2/24/2020       1\n",
      "2/14/2020       1\n",
      "Name: death, dtype: int64\n",
      "\n",
      "\n",
      "name is recovered\n",
      "0             926\n",
      "2/18/2020      13\n",
      "2/19/2020      13\n",
      "12/30/1899     12\n",
      "02/12/20       11\n",
      "2/21/2020      10\n",
      "2/15/2020       9\n",
      "2/20/2020       9\n",
      "2/14/2020       8\n",
      "1               7\n",
      "2/24/2020       7\n",
      "2/17/2020       7\n",
      "2/26/2020       6\n",
      "02/09/20        6\n",
      "2/25/2020       5\n",
      "2/27/2020       5\n",
      "02/04/20        4\n",
      "02/06/20        4\n",
      "2/16/2020       3\n",
      "02/11/20        3\n",
      "2/22/2020       3\n",
      "02/05/20        2\n",
      "02/08/20        2\n",
      "1/30/2020       2\n",
      "1/15/2020       1\n",
      "02/02/20        1\n",
      "1/17/2020       1\n",
      "2/23/2020       1\n",
      "02/07/20        1\n",
      "2/28/2020       1\n",
      "1/31/2020       1\n",
      "2/13/2020       1\n",
      "Name: recovered, dtype: int64\n",
      "\n",
      "\n",
      "name is symptom\n",
      "fever                                           73\n",
      "fever, cough                                    36\n",
      "cough                                           14\n",
      "fever, malaise                                   7\n",
      "fever, sore throat                               6\n",
      "                                                ..\n",
      "fever, headache, malaise                         1\n",
      "cough, chills, shortness of breath, diarrhea     1\n",
      "cold, fever, pneumonia                           1\n",
      "cough, sputum, dyspnea                           1\n",
      "throat pain, fever                               1\n",
      "Name: symptom, Length: 108, dtype: int64\n",
      "\n",
      "\n",
      "name is source\n",
      "Ministry of Health                 179\n",
      "央视新闻                               133\n",
      "KCDC                               103\n",
      "Ministry of Health Singapore        67\n",
      "Government HK                       60\n",
      "                                  ... \n",
      "Thomson Reuters Foundation News      1\n",
      "Nikkei Asian Review                  1\n",
      "Nippon                               1\n",
      "Washington Examiner                  1\n",
      "Fortune                              1\n",
      "Name: source, Length: 85, dtype: int64\n",
      "\n",
      "\n",
      "name is link\n",
      "https://www.mhlw.go.jp/stf/houdou/houdou_list_202002.html                                                                           88\n",
      "https://www.mhlw.go.jp/stf/newpage_09713.html                                                                                       48\n",
      "https://www.moh.gov.sg/news-highlights/details/two-more-cases-discharged-two-new-cases-of-novel-coronavirus-infection-confirmed     22\n",
      "https://www.mhlw.go.jp/stf/newpage_09652.html                                                                                       22\n",
      "http://www.nhc.gov.cn/yjb/s3578/202001/5d19a4f6d3154b9fae328918ed2e3c8a.shtml                                                       17\n",
      "                                                                                                                                    ..\n",
      "https://www.weibo.com/2656274875/IqGCB0OTO?from=page_1002062656274875_profile&wvr=6&mod=weibotime&type=comment#_rnd1579700655907     1\n",
      "https://www.channelnewsasia.com/news/asia/wuhan-pneumonia-outbreak-thailand-second-case-coronavirus-12272491                         1\n",
      "https://www.cdc.go.kr/board/board.es?mid=a30402000000&bid=0030&act=view&list_no=366261&tag=&nPage=54                                 1\n",
      "https://www.channelnewsasia.com/news/world/germany-wuhan-virus-workers-confirm-cases-infected-mild-symptoms-12365778                 1\n",
      "https://www.cdc.go.kr/board/board.es?mid=a30402000000&bid=0030&act=view&list_no=366261&tag=&nPage=68                                 1\n",
      "Name: link, Length: 490, dtype: int64\n",
      "\n",
      "\n",
      "name is Unnamed: 21\n",
      "Series([], Name: Unnamed: 21, dtype: int64)\n",
      "\n",
      "\n",
      "name is Unnamed: 22\n",
      "Series([], Name: Unnamed: 22, dtype: int64)\n",
      "\n",
      "\n",
      "name is Unnamed: 23\n",
      "Series([], Name: Unnamed: 23, dtype: int64)\n",
      "\n",
      "\n",
      "name is Unnamed: 24\n",
      "Series([], Name: Unnamed: 24, dtype: int64)\n",
      "\n",
      "\n",
      "name is Unnamed: 25\n",
      "Series([], Name: Unnamed: 25, dtype: int64)\n",
      "\n",
      "\n",
      "name is Unnamed: 26\n",
      "Series([], Name: Unnamed: 26, dtype: int64)\n",
      "\n",
      "\n"
     ]
    }
   ],
   "source": [
    "for col in df.columns:\n",
    "    print (f'name is {col}')\n",
    "    print(df[col].value_counts())\n",
    "    print('\\n')"
   ]
  },
  {
   "cell_type": "code",
   "execution_count": 6,
   "metadata": {},
   "outputs": [
    {
     "data": {
      "text/html": [
       "<div>\n",
       "<style scoped>\n",
       "    .dataframe tbody tr th:only-of-type {\n",
       "        vertical-align: middle;\n",
       "    }\n",
       "\n",
       "    .dataframe tbody tr th {\n",
       "        vertical-align: top;\n",
       "    }\n",
       "\n",
       "    .dataframe thead th {\n",
       "        text-align: right;\n",
       "    }\n",
       "</style>\n",
       "<table border=\"1\" class=\"dataframe\">\n",
       "  <thead>\n",
       "    <tr style=\"text-align: right;\">\n",
       "      <th></th>\n",
       "      <th>id</th>\n",
       "      <th>case_in_country</th>\n",
       "      <th>Unnamed: 3</th>\n",
       "      <th>age</th>\n",
       "      <th>If_onset_approximated</th>\n",
       "      <th>visiting Wuhan</th>\n",
       "      <th>from Wuhan</th>\n",
       "      <th>Unnamed: 21</th>\n",
       "      <th>Unnamed: 22</th>\n",
       "      <th>Unnamed: 23</th>\n",
       "      <th>Unnamed: 24</th>\n",
       "      <th>Unnamed: 25</th>\n",
       "      <th>Unnamed: 26</th>\n",
       "    </tr>\n",
       "  </thead>\n",
       "  <tbody>\n",
       "    <tr>\n",
       "      <th>count</th>\n",
       "      <td>1085.000000</td>\n",
       "      <td>888.000000</td>\n",
       "      <td>0.0</td>\n",
       "      <td>843.000000</td>\n",
       "      <td>560.000000</td>\n",
       "      <td>1085.000000</td>\n",
       "      <td>1081.000000</td>\n",
       "      <td>0.0</td>\n",
       "      <td>0.0</td>\n",
       "      <td>0.0</td>\n",
       "      <td>0.0</td>\n",
       "      <td>0.0</td>\n",
       "      <td>0.0</td>\n",
       "    </tr>\n",
       "    <tr>\n",
       "      <th>mean</th>\n",
       "      <td>543.000000</td>\n",
       "      <td>48.841216</td>\n",
       "      <td>NaN</td>\n",
       "      <td>49.483689</td>\n",
       "      <td>0.042857</td>\n",
       "      <td>0.176959</td>\n",
       "      <td>0.144311</td>\n",
       "      <td>NaN</td>\n",
       "      <td>NaN</td>\n",
       "      <td>NaN</td>\n",
       "      <td>NaN</td>\n",
       "      <td>NaN</td>\n",
       "      <td>NaN</td>\n",
       "    </tr>\n",
       "    <tr>\n",
       "      <th>std</th>\n",
       "      <td>313.356825</td>\n",
       "      <td>78.853528</td>\n",
       "      <td>NaN</td>\n",
       "      <td>18.255334</td>\n",
       "      <td>0.202716</td>\n",
       "      <td>0.381810</td>\n",
       "      <td>0.351567</td>\n",
       "      <td>NaN</td>\n",
       "      <td>NaN</td>\n",
       "      <td>NaN</td>\n",
       "      <td>NaN</td>\n",
       "      <td>NaN</td>\n",
       "      <td>NaN</td>\n",
       "    </tr>\n",
       "    <tr>\n",
       "      <th>min</th>\n",
       "      <td>1.000000</td>\n",
       "      <td>1.000000</td>\n",
       "      <td>NaN</td>\n",
       "      <td>0.250000</td>\n",
       "      <td>0.000000</td>\n",
       "      <td>0.000000</td>\n",
       "      <td>0.000000</td>\n",
       "      <td>NaN</td>\n",
       "      <td>NaN</td>\n",
       "      <td>NaN</td>\n",
       "      <td>NaN</td>\n",
       "      <td>NaN</td>\n",
       "      <td>NaN</td>\n",
       "    </tr>\n",
       "    <tr>\n",
       "      <th>25%</th>\n",
       "      <td>272.000000</td>\n",
       "      <td>11.000000</td>\n",
       "      <td>NaN</td>\n",
       "      <td>35.000000</td>\n",
       "      <td>0.000000</td>\n",
       "      <td>0.000000</td>\n",
       "      <td>0.000000</td>\n",
       "      <td>NaN</td>\n",
       "      <td>NaN</td>\n",
       "      <td>NaN</td>\n",
       "      <td>NaN</td>\n",
       "      <td>NaN</td>\n",
       "      <td>NaN</td>\n",
       "    </tr>\n",
       "    <tr>\n",
       "      <th>50%</th>\n",
       "      <td>543.000000</td>\n",
       "      <td>28.000000</td>\n",
       "      <td>NaN</td>\n",
       "      <td>51.000000</td>\n",
       "      <td>0.000000</td>\n",
       "      <td>0.000000</td>\n",
       "      <td>0.000000</td>\n",
       "      <td>NaN</td>\n",
       "      <td>NaN</td>\n",
       "      <td>NaN</td>\n",
       "      <td>NaN</td>\n",
       "      <td>NaN</td>\n",
       "      <td>NaN</td>\n",
       "    </tr>\n",
       "    <tr>\n",
       "      <th>75%</th>\n",
       "      <td>814.000000</td>\n",
       "      <td>67.250000</td>\n",
       "      <td>NaN</td>\n",
       "      <td>64.000000</td>\n",
       "      <td>0.000000</td>\n",
       "      <td>0.000000</td>\n",
       "      <td>0.000000</td>\n",
       "      <td>NaN</td>\n",
       "      <td>NaN</td>\n",
       "      <td>NaN</td>\n",
       "      <td>NaN</td>\n",
       "      <td>NaN</td>\n",
       "      <td>NaN</td>\n",
       "    </tr>\n",
       "    <tr>\n",
       "      <th>max</th>\n",
       "      <td>1085.000000</td>\n",
       "      <td>1443.000000</td>\n",
       "      <td>NaN</td>\n",
       "      <td>96.000000</td>\n",
       "      <td>1.000000</td>\n",
       "      <td>1.000000</td>\n",
       "      <td>1.000000</td>\n",
       "      <td>NaN</td>\n",
       "      <td>NaN</td>\n",
       "      <td>NaN</td>\n",
       "      <td>NaN</td>\n",
       "      <td>NaN</td>\n",
       "      <td>NaN</td>\n",
       "    </tr>\n",
       "  </tbody>\n",
       "</table>\n",
       "</div>"
      ],
      "text/plain": [
       "                id  case_in_country  Unnamed: 3         age  \\\n",
       "count  1085.000000       888.000000         0.0  843.000000   \n",
       "mean    543.000000        48.841216         NaN   49.483689   \n",
       "std     313.356825        78.853528         NaN   18.255334   \n",
       "min       1.000000         1.000000         NaN    0.250000   \n",
       "25%     272.000000        11.000000         NaN   35.000000   \n",
       "50%     543.000000        28.000000         NaN   51.000000   \n",
       "75%     814.000000        67.250000         NaN   64.000000   \n",
       "max    1085.000000      1443.000000         NaN   96.000000   \n",
       "\n",
       "       If_onset_approximated  visiting Wuhan   from Wuhan  Unnamed: 21  \\\n",
       "count             560.000000     1085.000000  1081.000000          0.0   \n",
       "mean                0.042857        0.176959     0.144311          NaN   \n",
       "std                 0.202716        0.381810     0.351567          NaN   \n",
       "min                 0.000000        0.000000     0.000000          NaN   \n",
       "25%                 0.000000        0.000000     0.000000          NaN   \n",
       "50%                 0.000000        0.000000     0.000000          NaN   \n",
       "75%                 0.000000        0.000000     0.000000          NaN   \n",
       "max                 1.000000        1.000000     1.000000          NaN   \n",
       "\n",
       "       Unnamed: 22  Unnamed: 23  Unnamed: 24  Unnamed: 25  Unnamed: 26  \n",
       "count          0.0          0.0          0.0          0.0          0.0  \n",
       "mean           NaN          NaN          NaN          NaN          NaN  \n",
       "std            NaN          NaN          NaN          NaN          NaN  \n",
       "min            NaN          NaN          NaN          NaN          NaN  \n",
       "25%            NaN          NaN          NaN          NaN          NaN  \n",
       "50%            NaN          NaN          NaN          NaN          NaN  \n",
       "75%            NaN          NaN          NaN          NaN          NaN  \n",
       "max            NaN          NaN          NaN          NaN          NaN  "
      ]
     },
     "execution_count": 6,
     "metadata": {},
     "output_type": "execute_result"
    }
   ],
   "source": [
    "df.describe()"
   ]
  },
  {
   "cell_type": "code",
   "execution_count": 7,
   "metadata": {},
   "outputs": [
    {
     "data": {
      "text/plain": [
       "count     1085\n",
       "unique      32\n",
       "top          0\n",
       "freq       926\n",
       "Name: recovered, dtype: object"
      ]
     },
     "execution_count": 7,
     "metadata": {},
     "output_type": "execute_result"
    }
   ],
   "source": [
    "df['recovered'].describe()"
   ]
  },
  {
   "cell_type": "code",
   "execution_count": 8,
   "metadata": {},
   "outputs": [],
   "source": [
    "df.drop(\"Unnamed: 3\",axis=1,inplace=True)\n",
    "df.drop(\"Unnamed: 21\",axis=1,inplace=True)\n",
    "df.drop(\"Unnamed: 22\",axis=1,inplace=True)\n",
    "df.drop(\"Unnamed: 23\",axis=1,inplace=True)\n",
    "df.drop(\"Unnamed: 24\",axis=1,inplace=True)\n",
    "df.drop(\"Unnamed: 25\",axis=1,inplace=True)\n",
    "df.drop(\"Unnamed: 26\",axis=1,inplace=True)\n",
    "df.drop(\"symptom\",axis=1,inplace=True)\n",
    "df.drop(\"exposure_start\",axis=1,inplace=True)"
   ]
  },
  {
   "cell_type": "code",
   "execution_count": 9,
   "metadata": {},
   "outputs": [
    {
     "data": {
      "text/html": [
       "<div>\n",
       "<style scoped>\n",
       "    .dataframe tbody tr th:only-of-type {\n",
       "        vertical-align: middle;\n",
       "    }\n",
       "\n",
       "    .dataframe tbody tr th {\n",
       "        vertical-align: top;\n",
       "    }\n",
       "\n",
       "    .dataframe thead th {\n",
       "        text-align: right;\n",
       "    }\n",
       "</style>\n",
       "<table border=\"1\" class=\"dataframe\">\n",
       "  <thead>\n",
       "    <tr style=\"text-align: right;\">\n",
       "      <th></th>\n",
       "      <th>id</th>\n",
       "      <th>case_in_country</th>\n",
       "      <th>reporting date</th>\n",
       "      <th>summary</th>\n",
       "      <th>location</th>\n",
       "      <th>country</th>\n",
       "      <th>gender</th>\n",
       "      <th>age</th>\n",
       "      <th>symptom_onset</th>\n",
       "      <th>If_onset_approximated</th>\n",
       "      <th>hosp_visit_date</th>\n",
       "      <th>exposure_end</th>\n",
       "      <th>visiting Wuhan</th>\n",
       "      <th>from Wuhan</th>\n",
       "      <th>death</th>\n",
       "      <th>recovered</th>\n",
       "      <th>source</th>\n",
       "      <th>link</th>\n",
       "    </tr>\n",
       "  </thead>\n",
       "  <tbody>\n",
       "    <tr>\n",
       "      <th>0</th>\n",
       "      <td>1</td>\n",
       "      <td>NaN</td>\n",
       "      <td>1/20/2020</td>\n",
       "      <td>First confirmed imported COVID-19 pneumonia pa...</td>\n",
       "      <td>Shenzhen, Guangdong</td>\n",
       "      <td>China</td>\n",
       "      <td>male</td>\n",
       "      <td>66.0</td>\n",
       "      <td>01/03/20</td>\n",
       "      <td>0.0</td>\n",
       "      <td>01/11/20</td>\n",
       "      <td>01/04/20</td>\n",
       "      <td>1</td>\n",
       "      <td>0.0</td>\n",
       "      <td>0</td>\n",
       "      <td>0</td>\n",
       "      <td>Shenzhen Municipal Health Commission</td>\n",
       "      <td>http://wjw.sz.gov.cn/wzx/202001/t20200120_1898...</td>\n",
       "    </tr>\n",
       "    <tr>\n",
       "      <th>1</th>\n",
       "      <td>2</td>\n",
       "      <td>NaN</td>\n",
       "      <td>1/20/2020</td>\n",
       "      <td>First confirmed imported COVID-19 pneumonia pa...</td>\n",
       "      <td>Shanghai</td>\n",
       "      <td>China</td>\n",
       "      <td>female</td>\n",
       "      <td>56.0</td>\n",
       "      <td>1/15/2020</td>\n",
       "      <td>0.0</td>\n",
       "      <td>1/15/2020</td>\n",
       "      <td>01/12/20</td>\n",
       "      <td>0</td>\n",
       "      <td>1.0</td>\n",
       "      <td>0</td>\n",
       "      <td>0</td>\n",
       "      <td>Official Weibo of Shanghai Municipal Health Co...</td>\n",
       "      <td>https://www.weibo.com/2372649470/IqogQhgfa?fro...</td>\n",
       "    </tr>\n",
       "    <tr>\n",
       "      <th>2</th>\n",
       "      <td>3</td>\n",
       "      <td>NaN</td>\n",
       "      <td>1/21/2020</td>\n",
       "      <td>First confirmed imported cases in Zhejiang: pa...</td>\n",
       "      <td>Zhejiang</td>\n",
       "      <td>China</td>\n",
       "      <td>male</td>\n",
       "      <td>46.0</td>\n",
       "      <td>01/04/20</td>\n",
       "      <td>0.0</td>\n",
       "      <td>1/17/2020</td>\n",
       "      <td>01/03/20</td>\n",
       "      <td>0</td>\n",
       "      <td>1.0</td>\n",
       "      <td>0</td>\n",
       "      <td>0</td>\n",
       "      <td>Health Commission of Zhejiang Province</td>\n",
       "      <td>http://www.zjwjw.gov.cn/art/2020/1/21/art_1202...</td>\n",
       "    </tr>\n",
       "    <tr>\n",
       "      <th>3</th>\n",
       "      <td>4</td>\n",
       "      <td>NaN</td>\n",
       "      <td>1/21/2020</td>\n",
       "      <td>new confirmed imported COVID-19 pneumonia in T...</td>\n",
       "      <td>Tianjin</td>\n",
       "      <td>China</td>\n",
       "      <td>female</td>\n",
       "      <td>60.0</td>\n",
       "      <td>NaN</td>\n",
       "      <td>NaN</td>\n",
       "      <td>1/19/2020</td>\n",
       "      <td>NaN</td>\n",
       "      <td>1</td>\n",
       "      <td>0.0</td>\n",
       "      <td>0</td>\n",
       "      <td>0</td>\n",
       "      <td>人民日报官方微博</td>\n",
       "      <td>https://m.weibo.cn/status/4463235401268457?</td>\n",
       "    </tr>\n",
       "    <tr>\n",
       "      <th>4</th>\n",
       "      <td>5</td>\n",
       "      <td>NaN</td>\n",
       "      <td>1/21/2020</td>\n",
       "      <td>new confirmed imported COVID-19 pneumonia in T...</td>\n",
       "      <td>Tianjin</td>\n",
       "      <td>China</td>\n",
       "      <td>male</td>\n",
       "      <td>58.0</td>\n",
       "      <td>NaN</td>\n",
       "      <td>NaN</td>\n",
       "      <td>1/14/2020</td>\n",
       "      <td>NaN</td>\n",
       "      <td>0</td>\n",
       "      <td>0.0</td>\n",
       "      <td>0</td>\n",
       "      <td>0</td>\n",
       "      <td>人民日报官方微博</td>\n",
       "      <td>https://m.weibo.cn/status/4463235401268457?</td>\n",
       "    </tr>\n",
       "  </tbody>\n",
       "</table>\n",
       "</div>"
      ],
      "text/plain": [
       "   id  case_in_country reporting date  \\\n",
       "0   1              NaN      1/20/2020   \n",
       "1   2              NaN      1/20/2020   \n",
       "2   3              NaN      1/21/2020   \n",
       "3   4              NaN      1/21/2020   \n",
       "4   5              NaN      1/21/2020   \n",
       "\n",
       "                                             summary             location  \\\n",
       "0  First confirmed imported COVID-19 pneumonia pa...  Shenzhen, Guangdong   \n",
       "1  First confirmed imported COVID-19 pneumonia pa...             Shanghai   \n",
       "2  First confirmed imported cases in Zhejiang: pa...             Zhejiang   \n",
       "3  new confirmed imported COVID-19 pneumonia in T...              Tianjin   \n",
       "4  new confirmed imported COVID-19 pneumonia in T...              Tianjin   \n",
       "\n",
       "  country  gender   age symptom_onset  If_onset_approximated hosp_visit_date  \\\n",
       "0   China    male  66.0      01/03/20                    0.0        01/11/20   \n",
       "1   China  female  56.0     1/15/2020                    0.0       1/15/2020   \n",
       "2   China    male  46.0      01/04/20                    0.0       1/17/2020   \n",
       "3   China  female  60.0           NaN                    NaN       1/19/2020   \n",
       "4   China    male  58.0           NaN                    NaN       1/14/2020   \n",
       "\n",
       "  exposure_end  visiting Wuhan  from Wuhan death recovered  \\\n",
       "0     01/04/20               1         0.0     0         0   \n",
       "1     01/12/20               0         1.0     0         0   \n",
       "2     01/03/20               0         1.0     0         0   \n",
       "3          NaN               1         0.0     0         0   \n",
       "4          NaN               0         0.0     0         0   \n",
       "\n",
       "                                              source  \\\n",
       "0               Shenzhen Municipal Health Commission   \n",
       "1  Official Weibo of Shanghai Municipal Health Co...   \n",
       "2             Health Commission of Zhejiang Province   \n",
       "3                                           人民日报官方微博   \n",
       "4                                           人民日报官方微博   \n",
       "\n",
       "                                                link  \n",
       "0  http://wjw.sz.gov.cn/wzx/202001/t20200120_1898...  \n",
       "1  https://www.weibo.com/2372649470/IqogQhgfa?fro...  \n",
       "2  http://www.zjwjw.gov.cn/art/2020/1/21/art_1202...  \n",
       "3        https://m.weibo.cn/status/4463235401268457?  \n",
       "4        https://m.weibo.cn/status/4463235401268457?  "
      ]
     },
     "execution_count": 9,
     "metadata": {},
     "output_type": "execute_result"
    }
   ],
   "source": [
    "df.head()"
   ]
  },
  {
   "cell_type": "code",
   "execution_count": 10,
   "metadata": {},
   "outputs": [
    {
     "data": {
      "text/html": [
       "<div>\n",
       "<style scoped>\n",
       "    .dataframe tbody tr th:only-of-type {\n",
       "        vertical-align: middle;\n",
       "    }\n",
       "\n",
       "    .dataframe tbody tr th {\n",
       "        vertical-align: top;\n",
       "    }\n",
       "\n",
       "    .dataframe thead th {\n",
       "        text-align: right;\n",
       "    }\n",
       "</style>\n",
       "<table border=\"1\" class=\"dataframe\">\n",
       "  <thead>\n",
       "    <tr style=\"text-align: right;\">\n",
       "      <th></th>\n",
       "      <th>id</th>\n",
       "      <th>case_in_country</th>\n",
       "      <th>age</th>\n",
       "      <th>If_onset_approximated</th>\n",
       "      <th>visiting Wuhan</th>\n",
       "      <th>from Wuhan</th>\n",
       "    </tr>\n",
       "  </thead>\n",
       "  <tbody>\n",
       "    <tr>\n",
       "      <th>count</th>\n",
       "      <td>1085.000000</td>\n",
       "      <td>888.000000</td>\n",
       "      <td>843.000000</td>\n",
       "      <td>560.000000</td>\n",
       "      <td>1085.000000</td>\n",
       "      <td>1081.000000</td>\n",
       "    </tr>\n",
       "    <tr>\n",
       "      <th>mean</th>\n",
       "      <td>543.000000</td>\n",
       "      <td>48.841216</td>\n",
       "      <td>49.483689</td>\n",
       "      <td>0.042857</td>\n",
       "      <td>0.176959</td>\n",
       "      <td>0.144311</td>\n",
       "    </tr>\n",
       "    <tr>\n",
       "      <th>std</th>\n",
       "      <td>313.356825</td>\n",
       "      <td>78.853528</td>\n",
       "      <td>18.255334</td>\n",
       "      <td>0.202716</td>\n",
       "      <td>0.381810</td>\n",
       "      <td>0.351567</td>\n",
       "    </tr>\n",
       "    <tr>\n",
       "      <th>min</th>\n",
       "      <td>1.000000</td>\n",
       "      <td>1.000000</td>\n",
       "      <td>0.250000</td>\n",
       "      <td>0.000000</td>\n",
       "      <td>0.000000</td>\n",
       "      <td>0.000000</td>\n",
       "    </tr>\n",
       "    <tr>\n",
       "      <th>25%</th>\n",
       "      <td>272.000000</td>\n",
       "      <td>11.000000</td>\n",
       "      <td>35.000000</td>\n",
       "      <td>0.000000</td>\n",
       "      <td>0.000000</td>\n",
       "      <td>0.000000</td>\n",
       "    </tr>\n",
       "    <tr>\n",
       "      <th>50%</th>\n",
       "      <td>543.000000</td>\n",
       "      <td>28.000000</td>\n",
       "      <td>51.000000</td>\n",
       "      <td>0.000000</td>\n",
       "      <td>0.000000</td>\n",
       "      <td>0.000000</td>\n",
       "    </tr>\n",
       "    <tr>\n",
       "      <th>75%</th>\n",
       "      <td>814.000000</td>\n",
       "      <td>67.250000</td>\n",
       "      <td>64.000000</td>\n",
       "      <td>0.000000</td>\n",
       "      <td>0.000000</td>\n",
       "      <td>0.000000</td>\n",
       "    </tr>\n",
       "    <tr>\n",
       "      <th>max</th>\n",
       "      <td>1085.000000</td>\n",
       "      <td>1443.000000</td>\n",
       "      <td>96.000000</td>\n",
       "      <td>1.000000</td>\n",
       "      <td>1.000000</td>\n",
       "      <td>1.000000</td>\n",
       "    </tr>\n",
       "  </tbody>\n",
       "</table>\n",
       "</div>"
      ],
      "text/plain": [
       "                id  case_in_country         age  If_onset_approximated  \\\n",
       "count  1085.000000       888.000000  843.000000             560.000000   \n",
       "mean    543.000000        48.841216   49.483689               0.042857   \n",
       "std     313.356825        78.853528   18.255334               0.202716   \n",
       "min       1.000000         1.000000    0.250000               0.000000   \n",
       "25%     272.000000        11.000000   35.000000               0.000000   \n",
       "50%     543.000000        28.000000   51.000000               0.000000   \n",
       "75%     814.000000        67.250000   64.000000               0.000000   \n",
       "max    1085.000000      1443.000000   96.000000               1.000000   \n",
       "\n",
       "       visiting Wuhan   from Wuhan  \n",
       "count     1085.000000  1081.000000  \n",
       "mean         0.176959     0.144311  \n",
       "std          0.381810     0.351567  \n",
       "min          0.000000     0.000000  \n",
       "25%          0.000000     0.000000  \n",
       "50%          0.000000     0.000000  \n",
       "75%          0.000000     0.000000  \n",
       "max          1.000000     1.000000  "
      ]
     },
     "execution_count": 10,
     "metadata": {},
     "output_type": "execute_result"
    }
   ],
   "source": [
    "df.describe()"
   ]
  },
  {
   "cell_type": "raw",
   "metadata": {},
   "source": [
    "numerical date"
   ]
  },
  {
   "cell_type": "code",
   "execution_count": 11,
   "metadata": {},
   "outputs": [],
   "source": [
    "df[\"id\"] = pd.to_numeric(df[\"id\"], errors='coerce')\n",
    "df[\"case_in_country\"] = pd.to_numeric(df[\"case_in_country\"], errors='coerce')\n",
    "df[\"If_onset_approximated\"] = pd.to_numeric(df[\"If_onset_approximated\"], errors='coerce')\n",
    "df[\"from Wuhan\"] = pd.to_numeric(df[\"from Wuhan\"], errors='coerce')\n",
    "df[\"visiting Wuhan\"] = pd.to_numeric(df[\"visiting Wuhan\"], errors='coerce')\n",
    "df[\"age\"] = pd.to_numeric(df[\"age\"], errors='coerce')\n",
    "df[\"recovered\"] = pd.to_numeric(df[\"recovered\"], errors='coerce')\n",
    "df[\"death\"] = pd.to_numeric(df[\"death\"], errors='coerce')"
   ]
  },
  {
   "cell_type": "code",
   "execution_count": 12,
   "metadata": {},
   "outputs": [
    {
     "name": "stdout",
     "output_type": "stream",
     "text": [
      "<class 'pandas.core.frame.DataFrame'>\n",
      "RangeIndex: 1085 entries, 0 to 1084\n",
      "Data columns (total 18 columns):\n",
      " #   Column                 Non-Null Count  Dtype  \n",
      "---  ------                 --------------  -----  \n",
      " 0   id                     1085 non-null   int64  \n",
      " 1   case_in_country        888 non-null    float64\n",
      " 2   reporting date         1084 non-null   object \n",
      " 3   summary                1080 non-null   object \n",
      " 4   location               1085 non-null   object \n",
      " 5   country                1085 non-null   object \n",
      " 6   gender                 902 non-null    object \n",
      " 7   age                    843 non-null    float64\n",
      " 8   symptom_onset          563 non-null    object \n",
      " 9   If_onset_approximated  560 non-null    float64\n",
      " 10  hosp_visit_date        507 non-null    object \n",
      " 11  exposure_end           341 non-null    object \n",
      " 12  visiting Wuhan         1085 non-null   int64  \n",
      " 13  from Wuhan             1081 non-null   float64\n",
      " 14  death                  1064 non-null   float64\n",
      " 15  recovered              933 non-null    float64\n",
      " 16  source                 1085 non-null   object \n",
      " 17  link                   1085 non-null   object \n",
      "dtypes: float64(6), int64(2), object(10)\n",
      "memory usage: 152.7+ KB\n"
     ]
    }
   ],
   "source": [
    "df.info()"
   ]
  },
  {
   "cell_type": "raw",
   "metadata": {},
   "source": [
    "datetime "
   ]
  },
  {
   "cell_type": "code",
   "execution_count": 13,
   "metadata": {},
   "outputs": [],
   "source": [
    "df['reporting date']=pd.to_datetime(df['reporting date'],format='%m/%d/%Y',errors=\"coerce\")\n",
    "df['symptom_onset']=pd.to_datetime(df['symptom_onset'],format='%m/%d/%Y',errors=\"coerce\")\n",
    "df['hosp_visit_date']=pd.to_datetime(df['hosp_visit_date'],format='%m/%d/%Y',errors=\"coerce\")\n",
    "df['exposure_end']=pd.to_datetime(df['exposure_end'],format='%m/%d/%Y',errors=\"coerce\")\n"
   ]
  },
  {
   "cell_type": "code",
   "execution_count": 14,
   "metadata": {},
   "outputs": [
    {
     "name": "stdout",
     "output_type": "stream",
     "text": [
      "<class 'pandas.core.frame.DataFrame'>\n",
      "RangeIndex: 1085 entries, 0 to 1084\n",
      "Data columns (total 18 columns):\n",
      " #   Column                 Non-Null Count  Dtype         \n",
      "---  ------                 --------------  -----         \n",
      " 0   id                     1085 non-null   int64         \n",
      " 1   case_in_country        888 non-null    float64       \n",
      " 2   reporting date         894 non-null    datetime64[ns]\n",
      " 3   summary                1080 non-null   object        \n",
      " 4   location               1085 non-null   object        \n",
      " 5   country                1085 non-null   object        \n",
      " 6   gender                 902 non-null    object        \n",
      " 7   age                    843 non-null    float64       \n",
      " 8   symptom_onset          396 non-null    datetime64[ns]\n",
      " 9   If_onset_approximated  560 non-null    float64       \n",
      " 10  hosp_visit_date        377 non-null    datetime64[ns]\n",
      " 11  exposure_end           295 non-null    datetime64[ns]\n",
      " 12  visiting Wuhan         1085 non-null   int64         \n",
      " 13  from Wuhan             1081 non-null   float64       \n",
      " 14  death                  1064 non-null   float64       \n",
      " 15  recovered              933 non-null    float64       \n",
      " 16  source                 1085 non-null   object        \n",
      " 17  link                   1085 non-null   object        \n",
      "dtypes: datetime64[ns](4), float64(6), int64(2), object(6)\n",
      "memory usage: 152.7+ KB\n"
     ]
    }
   ],
   "source": [
    "df.info()"
   ]
  },
  {
   "cell_type": "code",
   "execution_count": 15,
   "metadata": {},
   "outputs": [
    {
     "data": {
      "text/plain": [
       "id                         0\n",
       "case_in_country          197\n",
       "reporting date           191\n",
       "summary                    5\n",
       "location                   0\n",
       "country                    0\n",
       "gender                   183\n",
       "age                      242\n",
       "symptom_onset            689\n",
       "If_onset_approximated    525\n",
       "hosp_visit_date          708\n",
       "exposure_end             790\n",
       "visiting Wuhan             0\n",
       "from Wuhan                 4\n",
       "death                     21\n",
       "recovered                152\n",
       "source                     0\n",
       "link                       0\n",
       "dtype: int64"
      ]
     },
     "execution_count": 15,
     "metadata": {},
     "output_type": "execute_result"
    }
   ],
   "source": [
    "df.isnull().sum()"
   ]
  },
  {
   "cell_type": "raw",
   "metadata": {},
   "source": [
    "For Numerical Data\n",
    "Mean\n",
    "Median\n",
    "\n",
    "nomerical data\n",
    "id ,case_in_country , age , If_onset_approximated , visiting Wuhan, from Wuhan, death , recovered"
   ]
  },
  {
   "cell_type": "code",
   "execution_count": 16,
   "metadata": {},
   "outputs": [
    {
     "data": {
      "text/plain": [
       "197"
      ]
     },
     "execution_count": 16,
     "metadata": {},
     "output_type": "execute_result"
    }
   ],
   "source": [
    "df['case_in_country'].isnull().sum()"
   ]
  },
  {
   "cell_type": "code",
   "execution_count": 17,
   "metadata": {},
   "outputs": [],
   "source": [
    "from sklearn.impute import SimpleImputer\n",
    "imputer=SimpleImputer(strategy='median')"
   ]
  },
  {
   "cell_type": "code",
   "execution_count": 18,
   "metadata": {},
   "outputs": [],
   "source": [
    "df['id']=imputer.fit_transform(df[['id']])\n",
    "df['case_in_country']=imputer.fit_transform(df[['case_in_country']])\n",
    "df['age']=imputer.fit_transform(df[['age']])\n",
    "df['If_onset_approximated']=imputer.fit_transform(df[['If_onset_approximated']])\n",
    "df['visiting Wuhan']=imputer.fit_transform(df[['visiting Wuhan']])\n",
    "df['from Wuhan']=imputer.fit_transform(df[['from Wuhan']])\n",
    "df[\"death\"]=imputer.fit_transform(df[['from Wuhan']])\n",
    "df[\"recovered\"]=imputer.fit_transform(df[['from Wuhan']])"
   ]
  },
  {
   "cell_type": "code",
   "execution_count": 19,
   "metadata": {},
   "outputs": [
    {
     "data": {
      "text/plain": [
       "0"
      ]
     },
     "execution_count": 19,
     "metadata": {},
     "output_type": "execute_result"
    }
   ],
   "source": [
    "df['case_in_country'].isnull().sum()"
   ]
  },
  {
   "cell_type": "raw",
   "metadata": {},
   "source": [
    "For Categorical Data\n",
    " -=> Mode or Most frequent\n",
    " \n",
    " categrical data   \n",
    "summary\t,location\t,country\t,gender , source\t,link"
   ]
  },
  {
   "cell_type": "code",
   "execution_count": 20,
   "metadata": {},
   "outputs": [
    {
     "data": {
      "text/plain": [
       "5"
      ]
     },
     "execution_count": 20,
     "metadata": {},
     "output_type": "execute_result"
    }
   ],
   "source": [
    "df[\"summary\"].isnull().sum()"
   ]
  },
  {
   "cell_type": "code",
   "execution_count": 21,
   "metadata": {},
   "outputs": [],
   "source": [
    "df[\"summary\"].fillna(df[\"summary\"].mode()[0],inplace=True)\n",
    "df[\"location\"].fillna(df[\"location\"].mode()[0],inplace=True)\n",
    "df[\"country\"].fillna(df[\"country\"].mode()[0],inplace=True)\n",
    "df[\"gender\"].fillna(df[\"gender\"].mode()[0],inplace=True)\n",
    "df[\"source\"].fillna(df[\"source\"].mode()[0],inplace=True)\n",
    "df[\"link\"].fillna(df[\"link\"].mode()[0],inplace=True)"
   ]
  },
  {
   "cell_type": "code",
   "execution_count": 22,
   "metadata": {},
   "outputs": [
    {
     "data": {
      "text/plain": [
       "0"
      ]
     },
     "execution_count": 22,
     "metadata": {},
     "output_type": "execute_result"
    }
   ],
   "source": [
    "df[\"summary\"].isnull().sum()"
   ]
  },
  {
   "cell_type": "raw",
   "metadata": {},
   "source": [
    "for datetime\n",
    "reporting date ,symptom_onset ,hosp_visit_date, exposure_end"
   ]
  },
  {
   "cell_type": "code",
   "execution_count": 23,
   "metadata": {},
   "outputs": [
    {
     "data": {
      "text/plain": [
       "191"
      ]
     },
     "execution_count": 23,
     "metadata": {},
     "output_type": "execute_result"
    }
   ],
   "source": [
    "df[\"reporting date\"].isnull().sum()"
   ]
  },
  {
   "cell_type": "code",
   "execution_count": 24,
   "metadata": {},
   "outputs": [],
   "source": [
    "df[\"reporting date\"] = pd.to_datetime(df[\"reporting date\"], errors='coerce')\n",
    "df[\"reporting date\"].fillna(df[\"reporting date\"].mode()[0],inplace=True)\n",
    "df[\"symptom_onset\"] = pd.to_datetime(df[\"symptom_onset\"], errors='coerce')\n",
    "df[\"symptom_onset\"].fillna(df[\"symptom_onset\"].mode()[0],inplace=True)\n",
    "df[\"hosp_visit_date\"] = pd.to_datetime(df[\"hosp_visit_date\"], errors='coerce')\n",
    "df[\"hosp_visit_date\"].fillna(df[\"hosp_visit_date\"].mode()[0],inplace=True)\n",
    "df[\"exposure_end\"] = pd.to_datetime(df[\"exposure_end\"], errors='coerce')\n",
    "df[\"exposure_end\"].fillna(df[\"exposure_end\"].mode()[0],inplace=True)"
   ]
  },
  {
   "cell_type": "code",
   "execution_count": 25,
   "metadata": {},
   "outputs": [
    {
     "data": {
      "text/plain": [
       "0"
      ]
     },
     "execution_count": 25,
     "metadata": {},
     "output_type": "execute_result"
    }
   ],
   "source": [
    "df[\"reporting date\"].isnull().sum()"
   ]
  },
  {
   "cell_type": "code",
   "execution_count": 26,
   "metadata": {},
   "outputs": [
    {
     "data": {
      "text/html": [
       "<div>\n",
       "<style scoped>\n",
       "    .dataframe tbody tr th:only-of-type {\n",
       "        vertical-align: middle;\n",
       "    }\n",
       "\n",
       "    .dataframe tbody tr th {\n",
       "        vertical-align: top;\n",
       "    }\n",
       "\n",
       "    .dataframe thead th {\n",
       "        text-align: right;\n",
       "    }\n",
       "</style>\n",
       "<table border=\"1\" class=\"dataframe\">\n",
       "  <thead>\n",
       "    <tr style=\"text-align: right;\">\n",
       "      <th></th>\n",
       "      <th>id</th>\n",
       "      <th>case_in_country</th>\n",
       "      <th>reporting date</th>\n",
       "      <th>summary</th>\n",
       "      <th>location</th>\n",
       "      <th>country</th>\n",
       "      <th>gender</th>\n",
       "      <th>age</th>\n",
       "      <th>symptom_onset</th>\n",
       "      <th>If_onset_approximated</th>\n",
       "      <th>hosp_visit_date</th>\n",
       "      <th>exposure_end</th>\n",
       "      <th>visiting Wuhan</th>\n",
       "      <th>from Wuhan</th>\n",
       "      <th>death</th>\n",
       "      <th>recovered</th>\n",
       "      <th>source</th>\n",
       "      <th>link</th>\n",
       "    </tr>\n",
       "  </thead>\n",
       "  <tbody>\n",
       "    <tr>\n",
       "      <th>0</th>\n",
       "      <td>1.0</td>\n",
       "      <td>28.0</td>\n",
       "      <td>2020-01-20</td>\n",
       "      <td>First confirmed imported COVID-19 pneumonia pa...</td>\n",
       "      <td>Shenzhen, Guangdong</td>\n",
       "      <td>China</td>\n",
       "      <td>male</td>\n",
       "      <td>66.0</td>\n",
       "      <td>2020-01-23</td>\n",
       "      <td>0.0</td>\n",
       "      <td>2020-01-23</td>\n",
       "      <td>2020-01-22</td>\n",
       "      <td>1.0</td>\n",
       "      <td>0.0</td>\n",
       "      <td>0.0</td>\n",
       "      <td>0.0</td>\n",
       "      <td>Shenzhen Municipal Health Commission</td>\n",
       "      <td>http://wjw.sz.gov.cn/wzx/202001/t20200120_1898...</td>\n",
       "    </tr>\n",
       "    <tr>\n",
       "      <th>1</th>\n",
       "      <td>2.0</td>\n",
       "      <td>28.0</td>\n",
       "      <td>2020-01-20</td>\n",
       "      <td>First confirmed imported COVID-19 pneumonia pa...</td>\n",
       "      <td>Shanghai</td>\n",
       "      <td>China</td>\n",
       "      <td>female</td>\n",
       "      <td>56.0</td>\n",
       "      <td>2020-01-15</td>\n",
       "      <td>0.0</td>\n",
       "      <td>2020-01-15</td>\n",
       "      <td>2020-01-22</td>\n",
       "      <td>0.0</td>\n",
       "      <td>1.0</td>\n",
       "      <td>1.0</td>\n",
       "      <td>1.0</td>\n",
       "      <td>Official Weibo of Shanghai Municipal Health Co...</td>\n",
       "      <td>https://www.weibo.com/2372649470/IqogQhgfa?fro...</td>\n",
       "    </tr>\n",
       "    <tr>\n",
       "      <th>2</th>\n",
       "      <td>3.0</td>\n",
       "      <td>28.0</td>\n",
       "      <td>2020-01-21</td>\n",
       "      <td>First confirmed imported cases in Zhejiang: pa...</td>\n",
       "      <td>Zhejiang</td>\n",
       "      <td>China</td>\n",
       "      <td>male</td>\n",
       "      <td>46.0</td>\n",
       "      <td>2020-01-23</td>\n",
       "      <td>0.0</td>\n",
       "      <td>2020-01-17</td>\n",
       "      <td>2020-01-22</td>\n",
       "      <td>0.0</td>\n",
       "      <td>1.0</td>\n",
       "      <td>1.0</td>\n",
       "      <td>1.0</td>\n",
       "      <td>Health Commission of Zhejiang Province</td>\n",
       "      <td>http://www.zjwjw.gov.cn/art/2020/1/21/art_1202...</td>\n",
       "    </tr>\n",
       "    <tr>\n",
       "      <th>3</th>\n",
       "      <td>4.0</td>\n",
       "      <td>28.0</td>\n",
       "      <td>2020-01-21</td>\n",
       "      <td>new confirmed imported COVID-19 pneumonia in T...</td>\n",
       "      <td>Tianjin</td>\n",
       "      <td>China</td>\n",
       "      <td>female</td>\n",
       "      <td>60.0</td>\n",
       "      <td>2020-01-23</td>\n",
       "      <td>0.0</td>\n",
       "      <td>2020-01-19</td>\n",
       "      <td>2020-01-22</td>\n",
       "      <td>1.0</td>\n",
       "      <td>0.0</td>\n",
       "      <td>0.0</td>\n",
       "      <td>0.0</td>\n",
       "      <td>人民日报官方微博</td>\n",
       "      <td>https://m.weibo.cn/status/4463235401268457?</td>\n",
       "    </tr>\n",
       "    <tr>\n",
       "      <th>4</th>\n",
       "      <td>5.0</td>\n",
       "      <td>28.0</td>\n",
       "      <td>2020-01-21</td>\n",
       "      <td>new confirmed imported COVID-19 pneumonia in T...</td>\n",
       "      <td>Tianjin</td>\n",
       "      <td>China</td>\n",
       "      <td>male</td>\n",
       "      <td>58.0</td>\n",
       "      <td>2020-01-23</td>\n",
       "      <td>0.0</td>\n",
       "      <td>2020-01-14</td>\n",
       "      <td>2020-01-22</td>\n",
       "      <td>0.0</td>\n",
       "      <td>0.0</td>\n",
       "      <td>0.0</td>\n",
       "      <td>0.0</td>\n",
       "      <td>人民日报官方微博</td>\n",
       "      <td>https://m.weibo.cn/status/4463235401268457?</td>\n",
       "    </tr>\n",
       "  </tbody>\n",
       "</table>\n",
       "</div>"
      ],
      "text/plain": [
       "    id  case_in_country reporting date  \\\n",
       "0  1.0             28.0     2020-01-20   \n",
       "1  2.0             28.0     2020-01-20   \n",
       "2  3.0             28.0     2020-01-21   \n",
       "3  4.0             28.0     2020-01-21   \n",
       "4  5.0             28.0     2020-01-21   \n",
       "\n",
       "                                             summary             location  \\\n",
       "0  First confirmed imported COVID-19 pneumonia pa...  Shenzhen, Guangdong   \n",
       "1  First confirmed imported COVID-19 pneumonia pa...             Shanghai   \n",
       "2  First confirmed imported cases in Zhejiang: pa...             Zhejiang   \n",
       "3  new confirmed imported COVID-19 pneumonia in T...              Tianjin   \n",
       "4  new confirmed imported COVID-19 pneumonia in T...              Tianjin   \n",
       "\n",
       "  country  gender   age symptom_onset  If_onset_approximated hosp_visit_date  \\\n",
       "0   China    male  66.0    2020-01-23                    0.0      2020-01-23   \n",
       "1   China  female  56.0    2020-01-15                    0.0      2020-01-15   \n",
       "2   China    male  46.0    2020-01-23                    0.0      2020-01-17   \n",
       "3   China  female  60.0    2020-01-23                    0.0      2020-01-19   \n",
       "4   China    male  58.0    2020-01-23                    0.0      2020-01-14   \n",
       "\n",
       "  exposure_end  visiting Wuhan  from Wuhan  death  recovered  \\\n",
       "0   2020-01-22             1.0         0.0    0.0        0.0   \n",
       "1   2020-01-22             0.0         1.0    1.0        1.0   \n",
       "2   2020-01-22             0.0         1.0    1.0        1.0   \n",
       "3   2020-01-22             1.0         0.0    0.0        0.0   \n",
       "4   2020-01-22             0.0         0.0    0.0        0.0   \n",
       "\n",
       "                                              source  \\\n",
       "0               Shenzhen Municipal Health Commission   \n",
       "1  Official Weibo of Shanghai Municipal Health Co...   \n",
       "2             Health Commission of Zhejiang Province   \n",
       "3                                           人民日报官方微博   \n",
       "4                                           人民日报官方微博   \n",
       "\n",
       "                                                link  \n",
       "0  http://wjw.sz.gov.cn/wzx/202001/t20200120_1898...  \n",
       "1  https://www.weibo.com/2372649470/IqogQhgfa?fro...  \n",
       "2  http://www.zjwjw.gov.cn/art/2020/1/21/art_1202...  \n",
       "3        https://m.weibo.cn/status/4463235401268457?  \n",
       "4        https://m.weibo.cn/status/4463235401268457?  "
      ]
     },
     "execution_count": 26,
     "metadata": {},
     "output_type": "execute_result"
    }
   ],
   "source": [
    "df.head()"
   ]
  },
  {
   "cell_type": "raw",
   "metadata": {},
   "source": [
    "out lire"
   ]
  },
  {
   "cell_type": "code",
   "execution_count": 27,
   "metadata": {},
   "outputs": [
    {
     "data": {
      "text/plain": [
       "<matplotlib.axes._subplots.AxesSubplot at 0x1c56bdc64c0>"
      ]
     },
     "execution_count": 27,
     "metadata": {},
     "output_type": "execute_result"
    },
    {
     "data": {
      "image/png": "[encoded data removed]",
      "text/plain": [
       "<Figure size 720x720 with 1 Axes>"
      ]
     },
     "metadata": {},
     "output_type": "display_data"
    }
   ],
   "source": [
    "sns.boxplot(x='case_in_country', data=df)\n",
    "sns.stripplot(x='case_in_country', data=df, color=\"#474646\")"
   ]
  },
  {
   "cell_type": "code",
   "execution_count": 28,
   "metadata": {},
   "outputs": [
    {
     "data": {
      "text/plain": [
       "<matplotlib.axes._subplots.AxesSubplot at 0x1c56ca15b20>"
      ]
     },
     "execution_count": 28,
     "metadata": {},
     "output_type": "execute_result"
    },
    {
     "data": {
      "image/png": "[encoded data removed]",
      "text/plain": [
       "<Figure size 720x720 with 1 Axes>"
      ]
     },
     "metadata": {},
     "output_type": "display_data"
    }
   ],
   "source": [
    "sns.boxplot(x='age', data=df)\n",
    "sns.stripplot(x='age', data=df, color=\"#474646\")"
   ]
  },
  {
   "cell_type": "code",
   "execution_count": 29,
   "metadata": {},
   "outputs": [
    {
     "data": {
      "text/plain": [
       "<matplotlib.axes._subplots.AxesSubplot at 0x1c566d9aa60>"
      ]
     },
     "execution_count": 29,
     "metadata": {},
     "output_type": "execute_result"
    },
    {
     "data": {
      "image/png": "[encoded data removed]",
      "text/plain": [
       "<Figure size 720x720 with 1 Axes>"
      ]
     },
     "metadata": {},
     "output_type": "display_data"
    }
   ],
   "source": [
    "sns.boxplot(x='If_onset_approximated', data=df)\n",
    "sns.stripplot(x='If_onset_approximated', data=df, color=\"#474646\")"
   ]
  },
  {
   "cell_type": "code",
   "execution_count": 30,
   "metadata": {},
   "outputs": [
    {
     "data": {
      "text/plain": [
       "<matplotlib.axes._subplots.AxesSubplot at 0x1c56cbc2610>"
      ]
     },
     "execution_count": 30,
     "metadata": {},
     "output_type": "execute_result"
    },
    {
     "data": {
      "image/png": "[encoded data removed]",
      "text/plain": [
       "<Figure size 720x720 with 1 Axes>"
      ]
     },
     "metadata": {},
     "output_type": "display_data"
    }
   ],
   "source": [
    "sns.boxplot(x='visiting Wuhan', data=df)\n",
    "sns.stripplot(x='visiting Wuhan', data=df, color=\"#474646\")\n"
   ]
  },
  {
   "cell_type": "code",
   "execution_count": null,
   "metadata": {},
   "outputs": [],
   "source": []
  },
  {
   "cell_type": "code",
   "execution_count": 31,
   "metadata": {},
   "outputs": [
    {
     "data": {
      "text/plain": [
       "<matplotlib.axes._subplots.AxesSubplot at 0x1c56cc205e0>"
      ]
     },
     "execution_count": 31,
     "metadata": {},
     "output_type": "execute_result"
    },
    {
     "data": {
      "image/png": "[encoded data removed]",
      "text/plain": [
       "<Figure size 720x720 with 1 Axes>"
      ]
     },
     "metadata": {},
     "output_type": "display_data"
    }
   ],
   "source": [
    "sns.boxplot(x='death', data=df)\n",
    "sns.stripplot(x='death', data=df, color=\"#474646\")"
   ]
  },
  {
   "cell_type": "code",
   "execution_count": 32,
   "metadata": {},
   "outputs": [
    {
     "data": {
      "text/plain": [
       "<matplotlib.axes._subplots.AxesSubplot at 0x1c56cf521c0>"
      ]
     },
     "execution_count": 32,
     "metadata": {},
     "output_type": "execute_result"
    },
    {
     "data": {
      "image/png": "[encoded data removed]",
      "text/plain": [
       "<Figure size 720x720 with 1 Axes>"
      ]
     },
     "metadata": {},
     "output_type": "display_data"
    }
   ],
   "source": [
    "sns.boxplot(x='recovered', data=df)\n",
    "sns.stripplot(x='recovered', data=df, color=\"#474646\")"
   ]
  },
  {
   "cell_type": "code",
   "execution_count": 33,
   "metadata": {},
   "outputs": [],
   "source": [
    "from scipy import stats"
   ]
  },
  {
   "cell_type": "code",
   "execution_count": 34,
   "metadata": {},
   "outputs": [],
   "source": [
    "df.loc[np.abs(stats.zscore(df['case_in_country'])) > 3, 'case_in_country'] = df['case_in_country'].median()\n",
    "df.loc[np.abs(stats.zscore(df['age'])) > 3, 'age'] = df['age'].median()\n",
    "df.loc[np.abs(stats.zscore(df['If_onset_approximated'])) > 3, 'If_onset_approximated'] = df['If_onset_approximated'].median()\n",
    "df.loc[np.abs(stats.zscore(df['visiting Wuhan'])) > 3, 'visiting Wuhan'] = df['visiting Wuhan'].median()\n",
    "df.loc[np.abs(stats.zscore(df['death'])) > 3, 'death'] = df['death'].median()\n",
    "df.loc[np.abs(stats.zscore(df['recovered'])) > 3, 'recovered'] = df['recovered'].median()\n"
   ]
  },
  {
   "cell_type": "raw",
   "metadata": {},
   "source": [
    "q1=df.quantile(0.25)\n",
    "q3=df.quantile(0.75)\n",
    "IQR=q3-q1"
   ]
  },
  {
   "cell_type": "raw",
   "metadata": {},
   "source": [
    "df.loc[(df['age'] < (q1['age'] - 1.5 * IQR['age'])) | (df['age'] > (q3['age'] + 1.5 * IQR['age'])), 'age'] = df['age'].median()\n",
    "df.loc[(df['case_in_country'] < (q1['case_in_country'] - 1.5 * IQR['case_in_country'])) | (df['case_in_country'] > (q3['case_in_country'] + 1.5 * IQR['case_in_country'])), 'case_in_country'] = df['case_in_country'].median()"
   ]
  },
  {
   "cell_type": "code",
   "execution_count": 35,
   "metadata": {},
   "outputs": [
    {
     "data": {
      "text/plain": [
       "<matplotlib.axes._subplots.AxesSubplot at 0x1c56cbac3d0>"
      ]
     },
     "execution_count": 35,
     "metadata": {},
     "output_type": "execute_result"
    },
    {
     "data": {
      "image/png": "[encoded data removed]",
      "text/plain": [
       "<Figure size 720x720 with 1 Axes>"
      ]
     },
     "metadata": {},
     "output_type": "display_data"
    }
   ],
   "source": [
    "sns.boxplot(x='case_in_country', data=df)\n",
    "sns.stripplot(x='case_in_country', data=df, color=\"#474646\")"
   ]
  },
  {
   "cell_type": "code",
   "execution_count": 36,
   "metadata": {},
   "outputs": [
    {
     "data": {
      "text/plain": [
       "<matplotlib.axes._subplots.AxesSubplot at 0x1c56d509100>"
      ]
     },
     "execution_count": 36,
     "metadata": {},
     "output_type": "execute_result"
    },
    {
     "data": {
      "image/png": "[encoded data removed]",
      "text/plain": [
       "<Figure size 720x720 with 1 Axes>"
      ]
     },
     "metadata": {},
     "output_type": "display_data"
    }
   ],
   "source": [
    "sns.boxplot(x='age', data=df)\n",
    "sns.stripplot(x='age', data=df, color=\"#474646\")"
   ]
  },
  {
   "cell_type": "code",
   "execution_count": 37,
   "metadata": {},
   "outputs": [
    {
     "data": {
      "text/plain": [
       "<matplotlib.axes._subplots.AxesSubplot at 0x1c56d327280>"
      ]
     },
     "execution_count": 37,
     "metadata": {},
     "output_type": "execute_result"
    },
    {
     "data": {
      "image/png": "[encoded data removed]",
      "text/plain": [
       "<Figure size 720x720 with 1 Axes>"
      ]
     },
     "metadata": {},
     "output_type": "display_data"
    }
   ],
   "source": [
    "sns.boxplot(x='If_onset_approximated', data=df)\n",
    "sns.stripplot(x='If_onset_approximated', data=df, color=\"#474646\")"
   ]
  },
  {
   "cell_type": "code",
   "execution_count": 38,
   "metadata": {},
   "outputs": [
    {
     "data": {
      "text/plain": [
       "<matplotlib.axes._subplots.AxesSubplot at 0x1c56d8bb670>"
      ]
     },
     "execution_count": 38,
     "metadata": {},
     "output_type": "execute_result"
    },
    {
     "data": {
      "image/png": "[encoded data removed]",
      "text/plain": [
       "<Figure size 720x720 with 1 Axes>"
      ]
     },
     "metadata": {},
     "output_type": "display_data"
    }
   ],
   "source": [
    "sns.boxplot(x='death', data=df)\n",
    "sns.stripplot(x='death', data=df, color=\"#474646\")"
   ]
  },
  {
   "cell_type": "code",
   "execution_count": 39,
   "metadata": {},
   "outputs": [
    {
     "data": {
      "text/plain": [
       "<matplotlib.axes._subplots.AxesSubplot at 0x1c56cbb8490>"
      ]
     },
     "execution_count": 39,
     "metadata": {},
     "output_type": "execute_result"
    },
    {
     "data": {
      "image/png": "[encoded data removed]",
      "text/plain": [
       "<Figure size 720x720 with 1 Axes>"
      ]
     },
     "metadata": {},
     "output_type": "display_data"
    }
   ],
   "source": [
    "sns.boxplot(x='recovered', data=df)\n",
    "sns.stripplot(x='recovered', data=df, color=\"#474646\")"
   ]
  },
  {
   "cell_type": "code",
   "execution_count": 40,
   "metadata": {},
   "outputs": [
    {
     "data": {
      "text/plain": [
       "<matplotlib.axes._subplots.AxesSubplot at 0x1c56d6b2130>"
      ]
     },
     "execution_count": 40,
     "metadata": {},
     "output_type": "execute_result"
    },
    {
     "data": {
      "image/png": "[encoded data removed]",
      "text/plain": [
       "<Figure size 720x720 with 1 Axes>"
      ]
     },
     "metadata": {},
     "output_type": "display_data"
    }
   ],
   "source": [
    "sns.countplot(df['visiting Wuhan'])"
   ]
  },
  {
   "cell_type": "code",
   "execution_count": 41,
   "metadata": {},
   "outputs": [
    {
     "data": {
      "text/plain": [
       "0.0    893\n",
       "1.0    192\n",
       "Name: visiting Wuhan, dtype: int64"
      ]
     },
     "execution_count": 41,
     "metadata": {},
     "output_type": "execute_result"
    }
   ],
   "source": [
    "df['visiting Wuhan'].value_counts()"
   ]
  },
  {
   "cell_type": "code",
   "execution_count": 42,
   "metadata": {},
   "outputs": [],
   "source": [
    "from sklearn.model_selection import train_test_split\n",
    "from sklearn.utils import resample"
   ]
  },
  {
   "cell_type": "code",
   "execution_count": 43,
   "metadata": {},
   "outputs": [],
   "source": [
    "x = df.drop('visiting Wuhan', axis=1)\n",
    "y = df['visiting Wuhan']\n",
    "\n",
    "x_train, x_test, y_train, y_test = train_test_split(x, y, test_size=0.25, random_state=27)"
   ]
  },
  {
   "cell_type": "code",
   "execution_count": 44,
   "metadata": {},
   "outputs": [],
   "source": [
    "td=pd.concat([x_train,y_train],axis=1)"
   ]
  },
  {
   "cell_type": "code",
   "execution_count": 45,
   "metadata": {},
   "outputs": [],
   "source": [
    "not_fraud=td[td['visiting Wuhan']==0]\n",
    "fraud=td[td['visiting Wuhan']==1]\n",
    "fraud_upsampled=resample(fraud,replace=True,n_samples=len(not_fraud),random_state=27)\n",
    "upsampled=pd.concat([not_fraud,fraud_upsampled])"
   ]
  },
  {
   "cell_type": "code",
   "execution_count": 46,
   "metadata": {},
   "outputs": [
    {
     "data": {
      "text/plain": [
       "1.0    669\n",
       "0.0    669\n",
       "Name: visiting Wuhan, dtype: int64"
      ]
     },
     "execution_count": 46,
     "metadata": {},
     "output_type": "execute_result"
    }
   ],
   "source": [
    "upsampled['visiting Wuhan'].value_counts()"
   ]
  },
  {
   "cell_type": "code",
   "execution_count": 47,
   "metadata": {},
   "outputs": [
    {
     "data": {
      "text/plain": [
       "<matplotlib.axes._subplots.AxesSubplot at 0x1c56d8510d0>"
      ]
     },
     "execution_count": 47,
     "metadata": {},
     "output_type": "execute_result"
    },
    {
     "data": {
      "image/png": "[encoded data removed]",
      "text/plain": [
       "<Figure size 720x720 with 1 Axes>"
      ]
     },
     "metadata": {},
     "output_type": "display_data"
    }
   ],
   "source": [
    "sns.countplot(upsampled['visiting Wuhan'])"
   ]
  },
  {
   "cell_type": "code",
   "execution_count": 48,
   "metadata": {},
   "outputs": [
    {
     "data": {
      "text/plain": [
       "<matplotlib.axes._subplots.AxesSubplot at 0x1c56dc336a0>"
      ]
     },
     "execution_count": 48,
     "metadata": {},
     "output_type": "execute_result"
    },
    {
     "data": {
      "image/png": "[encoded data removed]",
      "text/plain": [
       "<Figure size 720x720 with 1 Axes>"
      ]
     },
     "metadata": {},
     "output_type": "display_data"
    }
   ],
   "source": [
    "sns.countplot(df['from Wuhan'])"
   ]
  },
  {
   "cell_type": "code",
   "execution_count": 49,
   "metadata": {},
   "outputs": [
    {
     "data": {
      "text/plain": [
       "0.0    929\n",
       "1.0    156\n",
       "Name: from Wuhan, dtype: int64"
      ]
     },
     "execution_count": 49,
     "metadata": {},
     "output_type": "execute_result"
    }
   ],
   "source": [
    "df['from Wuhan'].value_counts() "
   ]
  },
  {
   "cell_type": "code",
   "execution_count": 56,
   "metadata": {},
   "outputs": [],
   "source": [
    "x=df.drop('from Wuhan',axis=1)\n",
    "y=df['from Wuhan']\n",
    "x_train, x_test, y_train, y_test = train_test_split(x, y, test_size=0.25, random_state=27)"
   ]
  },
  {
   "cell_type": "code",
   "execution_count": 58,
   "metadata": {},
   "outputs": [],
   "source": [
    "td=pd.concat([x_train,y_train],axis=1)\n"
   ]
  },
  {
   "cell_type": "code",
   "execution_count": 62,
   "metadata": {},
   "outputs": [],
   "source": [
    "not_fraud=td[td['from Wuhan']==0]\n",
    "fraud=td[td['from Wuhan']==1]\n",
    "fraud_upsampled=resample(fraud,replace=True,n_samples=len(not_fraud),random_state=27)\n",
    "upsampled=pd.concat([not_fraud,fraud_upsampled])"
   ]
  },
  {
   "cell_type": "code",
   "execution_count": 63,
   "metadata": {},
   "outputs": [
    {
     "data": {
      "text/plain": [
       "1.0    697\n",
       "0.0    697\n",
       "Name: from Wuhan, dtype: int64"
      ]
     },
     "execution_count": 63,
     "metadata": {},
     "output_type": "execute_result"
    }
   ],
   "source": [
    "upsampled['from Wuhan'].value_counts() "
   ]
  },
  {
   "cell_type": "code",
   "execution_count": 64,
   "metadata": {},
   "outputs": [
    {
     "data": {
      "text/plain": [
       "<matplotlib.axes._subplots.AxesSubplot at 0x1c56f734490>"
      ]
     },
     "execution_count": 64,
     "metadata": {},
     "output_type": "execute_result"
    },
    {
     "data": {
      "image/png": "[encoded data removed]",
      "text/plain": [
       "<Figure size 720x720 with 1 Axes>"
      ]
     },
     "metadata": {},
     "output_type": "display_data"
    }
   ],
   "source": [
    "sns.countplot(upsampled['from Wuhan'])"
   ]
  },
  {
   "cell_type": "code",
   "execution_count": 65,
   "metadata": {},
   "outputs": [],
   "source": [
    "x = df.drop('recovered', axis=1)\n",
    "y = df['recovered']"
   ]
  },
  {
   "cell_type": "code",
   "execution_count": 71,
   "metadata": {},
   "outputs": [],
   "source": [
    "x_train, x_test, y_train, y_test = train_test_split(x, y, test_size = 0.25, random_state=0)"
   ]
  },
  {
   "cell_type": "code",
   "execution_count": 72,
   "metadata": {},
   "outputs": [
    {
     "data": {
      "text/html": [
       "<div>\n",
       "<style scoped>\n",
       "    .dataframe tbody tr th:only-of-type {\n",
       "        vertical-align: middle;\n",
       "    }\n",
       "\n",
       "    .dataframe tbody tr th {\n",
       "        vertical-align: top;\n",
       "    }\n",
       "\n",
       "    .dataframe thead th {\n",
       "        text-align: right;\n",
       "    }\n",
       "</style>\n",
       "<table border=\"1\" class=\"dataframe\">\n",
       "  <thead>\n",
       "    <tr style=\"text-align: right;\">\n",
       "      <th></th>\n",
       "      <th>id</th>\n",
       "      <th>case_in_country</th>\n",
       "      <th>reporting date</th>\n",
       "      <th>summary</th>\n",
       "      <th>location</th>\n",
       "      <th>country</th>\n",
       "      <th>gender</th>\n",
       "      <th>age</th>\n",
       "      <th>symptom_onset</th>\n",
       "      <th>If_onset_approximated</th>\n",
       "      <th>hosp_visit_date</th>\n",
       "      <th>exposure_end</th>\n",
       "      <th>visiting Wuhan</th>\n",
       "      <th>from Wuhan</th>\n",
       "      <th>death</th>\n",
       "      <th>source</th>\n",
       "      <th>link</th>\n",
       "    </tr>\n",
       "  </thead>\n",
       "  <tbody>\n",
       "    <tr>\n",
       "      <th>862</th>\n",
       "      <td>863.0</td>\n",
       "      <td>14.0</td>\n",
       "      <td>2020-02-27</td>\n",
       "      <td>new confirmed COVID-19 patient in UAE: Iranian...</td>\n",
       "      <td>UAE</td>\n",
       "      <td>UAE</td>\n",
       "      <td>male</td>\n",
       "      <td>51.0</td>\n",
       "      <td>2020-01-23</td>\n",
       "      <td>0.0</td>\n",
       "      <td>2020-01-23</td>\n",
       "      <td>2020-01-22</td>\n",
       "      <td>0.0</td>\n",
       "      <td>0.0</td>\n",
       "      <td>0.0</td>\n",
       "      <td>The National</td>\n",
       "      <td>https://www.thenational.ae/uae/health/coronavi...</td>\n",
       "    </tr>\n",
       "    <tr>\n",
       "      <th>658</th>\n",
       "      <td>659.0</td>\n",
       "      <td>2.0</td>\n",
       "      <td>2020-01-24</td>\n",
       "      <td>new confirmed COVID-19 patient in Taiwan: fema...</td>\n",
       "      <td>Taiwan</td>\n",
       "      <td>Taiwan</td>\n",
       "      <td>female</td>\n",
       "      <td>55.0</td>\n",
       "      <td>2020-01-23</td>\n",
       "      <td>0.0</td>\n",
       "      <td>2020-01-23</td>\n",
       "      <td>2020-01-21</td>\n",
       "      <td>1.0</td>\n",
       "      <td>0.0</td>\n",
       "      <td>0.0</td>\n",
       "      <td>Taiwan News</td>\n",
       "      <td>https://www.taiwannews.com.tw/en/news/3866003</td>\n",
       "    </tr>\n",
       "    <tr>\n",
       "      <th>252</th>\n",
       "      <td>253.0</td>\n",
       "      <td>17.0</td>\n",
       "      <td>2020-02-27</td>\n",
       "      <td>new confirmed COVID-19 patient in Japan: femal...</td>\n",
       "      <td>Chiba Prefecture</td>\n",
       "      <td>Japan</td>\n",
       "      <td>female</td>\n",
       "      <td>35.0</td>\n",
       "      <td>2020-01-30</td>\n",
       "      <td>0.0</td>\n",
       "      <td>2020-01-31</td>\n",
       "      <td>2020-01-22</td>\n",
       "      <td>0.0</td>\n",
       "      <td>1.0</td>\n",
       "      <td>1.0</td>\n",
       "      <td>Ministry of Health</td>\n",
       "      <td>https://www.mhlw.go.jp/stf/houdou/houdou_list_...</td>\n",
       "    </tr>\n",
       "    <tr>\n",
       "      <th>706</th>\n",
       "      <td>707.0</td>\n",
       "      <td>16.0</td>\n",
       "      <td>2020-01-31</td>\n",
       "      <td>new confirmed COVID-19 patient in Thailand: Ch...</td>\n",
       "      <td>Thailand</td>\n",
       "      <td>Thailand</td>\n",
       "      <td>male</td>\n",
       "      <td>51.0</td>\n",
       "      <td>2020-01-23</td>\n",
       "      <td>0.0</td>\n",
       "      <td>2020-01-23</td>\n",
       "      <td>2020-01-22</td>\n",
       "      <td>1.0</td>\n",
       "      <td>0.0</td>\n",
       "      <td>0.0</td>\n",
       "      <td>Channel News Asia</td>\n",
       "      <td>https://www.channelnewsasia.com/news/asia/wuha...</td>\n",
       "    </tr>\n",
       "    <tr>\n",
       "      <th>215</th>\n",
       "      <td>216.0</td>\n",
       "      <td>19.0</td>\n",
       "      <td>2020-02-27</td>\n",
       "      <td>new confirmed COVID-19 patient in France: Pari...</td>\n",
       "      <td>Paris</td>\n",
       "      <td>France</td>\n",
       "      <td>male</td>\n",
       "      <td>51.0</td>\n",
       "      <td>2020-01-23</td>\n",
       "      <td>0.0</td>\n",
       "      <td>2020-01-23</td>\n",
       "      <td>2020-01-22</td>\n",
       "      <td>0.0</td>\n",
       "      <td>0.0</td>\n",
       "      <td>0.0</td>\n",
       "      <td>nice matin</td>\n",
       "      <td>https://www.nicematin.com/sante/un-premier-cas...</td>\n",
       "    </tr>\n",
       "    <tr>\n",
       "      <th>...</th>\n",
       "      <td>...</td>\n",
       "      <td>...</td>\n",
       "      <td>...</td>\n",
       "      <td>...</td>\n",
       "      <td>...</td>\n",
       "      <td>...</td>\n",
       "      <td>...</td>\n",
       "      <td>...</td>\n",
       "      <td>...</td>\n",
       "      <td>...</td>\n",
       "      <td>...</td>\n",
       "      <td>...</td>\n",
       "      <td>...</td>\n",
       "      <td>...</td>\n",
       "      <td>...</td>\n",
       "      <td>...</td>\n",
       "      <td>...</td>\n",
       "    </tr>\n",
       "    <tr>\n",
       "      <th>1033</th>\n",
       "      <td>1034.0</td>\n",
       "      <td>1.0</td>\n",
       "      <td>2020-02-19</td>\n",
       "      <td>new confirmed COVID-19 patient in Iran: died, ...</td>\n",
       "      <td>Qom</td>\n",
       "      <td>Iran</td>\n",
       "      <td>male</td>\n",
       "      <td>51.0</td>\n",
       "      <td>2020-01-23</td>\n",
       "      <td>0.0</td>\n",
       "      <td>2020-01-23</td>\n",
       "      <td>2020-01-22</td>\n",
       "      <td>0.0</td>\n",
       "      <td>0.0</td>\n",
       "      <td>0.0</td>\n",
       "      <td>ABC News</td>\n",
       "      <td>https://abcnews.go.com/International/wireStory...</td>\n",
       "    </tr>\n",
       "    <tr>\n",
       "      <th>763</th>\n",
       "      <td>764.0</td>\n",
       "      <td>14.0</td>\n",
       "      <td>2020-02-27</td>\n",
       "      <td>new confirmed COVID-19 patient in Vietnam: 2/9...</td>\n",
       "      <td>Vinh Phuc</td>\n",
       "      <td>Vietnam</td>\n",
       "      <td>female</td>\n",
       "      <td>55.0</td>\n",
       "      <td>2020-01-23</td>\n",
       "      <td>0.0</td>\n",
       "      <td>2020-01-23</td>\n",
       "      <td>2020-01-28</td>\n",
       "      <td>0.0</td>\n",
       "      <td>0.0</td>\n",
       "      <td>0.0</td>\n",
       "      <td>Vietnam News</td>\n",
       "      <td>https://vietnamnews.vn/society/591803/viet-nam...</td>\n",
       "    </tr>\n",
       "    <tr>\n",
       "      <th>835</th>\n",
       "      <td>836.0</td>\n",
       "      <td>41.0</td>\n",
       "      <td>2020-02-27</td>\n",
       "      <td>new confirmed COVID-19 patient in Germany: Ham...</td>\n",
       "      <td>Hamburg</td>\n",
       "      <td>Germany</td>\n",
       "      <td>male</td>\n",
       "      <td>51.0</td>\n",
       "      <td>2020-02-26</td>\n",
       "      <td>0.0</td>\n",
       "      <td>2020-02-27</td>\n",
       "      <td>2020-01-22</td>\n",
       "      <td>0.0</td>\n",
       "      <td>0.0</td>\n",
       "      <td>0.0</td>\n",
       "      <td>Suede Deutsche</td>\n",
       "      <td>https://www.sueddeutsche.de/panorama/coronavir...</td>\n",
       "    </tr>\n",
       "    <tr>\n",
       "      <th>559</th>\n",
       "      <td>560.0</td>\n",
       "      <td>17.0</td>\n",
       "      <td>2020-02-27</td>\n",
       "      <td>new confirmed COVID-19 patient in South Korea:...</td>\n",
       "      <td>South Korea</td>\n",
       "      <td>South Korea</td>\n",
       "      <td>male</td>\n",
       "      <td>37.0</td>\n",
       "      <td>2020-01-26</td>\n",
       "      <td>0.0</td>\n",
       "      <td>2020-01-23</td>\n",
       "      <td>2020-01-23</td>\n",
       "      <td>0.0</td>\n",
       "      <td>0.0</td>\n",
       "      <td>0.0</td>\n",
       "      <td>South China Morning Post</td>\n",
       "      <td>https://www.scmp.com/news/asia/east-asia/artic...</td>\n",
       "    </tr>\n",
       "    <tr>\n",
       "      <th>684</th>\n",
       "      <td>685.0</td>\n",
       "      <td>28.0</td>\n",
       "      <td>2020-02-23</td>\n",
       "      <td>new confirmed COVID-19 patient in Taiwan: male...</td>\n",
       "      <td>Taiwan</td>\n",
       "      <td>Taiwan</td>\n",
       "      <td>male</td>\n",
       "      <td>55.0</td>\n",
       "      <td>2020-01-23</td>\n",
       "      <td>0.0</td>\n",
       "      <td>2020-01-23</td>\n",
       "      <td>2020-01-22</td>\n",
       "      <td>0.0</td>\n",
       "      <td>0.0</td>\n",
       "      <td>0.0</td>\n",
       "      <td>Taiwan CDC</td>\n",
       "      <td>https://www.cdc.gov.tw/En/Bulletin/Detail/MtvP...</td>\n",
       "    </tr>\n",
       "  </tbody>\n",
       "</table>\n",
       "<p>813 rows × 17 columns</p>\n",
       "</div>"
      ],
      "text/plain": [
       "          id  case_in_country reporting date  \\\n",
       "862    863.0             14.0     2020-02-27   \n",
       "658    659.0              2.0     2020-01-24   \n",
       "252    253.0             17.0     2020-02-27   \n",
       "706    707.0             16.0     2020-01-31   \n",
       "215    216.0             19.0     2020-02-27   \n",
       "...      ...              ...            ...   \n",
       "1033  1034.0              1.0     2020-02-19   \n",
       "763    764.0             14.0     2020-02-27   \n",
       "835    836.0             41.0     2020-02-27   \n",
       "559    560.0             17.0     2020-02-27   \n",
       "684    685.0             28.0     2020-02-23   \n",
       "\n",
       "                                                summary          location  \\\n",
       "862   new confirmed COVID-19 patient in UAE: Iranian...               UAE   \n",
       "658   new confirmed COVID-19 patient in Taiwan: fema...            Taiwan   \n",
       "252   new confirmed COVID-19 patient in Japan: femal...  Chiba Prefecture   \n",
       "706   new confirmed COVID-19 patient in Thailand: Ch...          Thailand   \n",
       "215   new confirmed COVID-19 patient in France: Pari...             Paris   \n",
       "...                                                 ...               ...   \n",
       "1033  new confirmed COVID-19 patient in Iran: died, ...               Qom   \n",
       "763   new confirmed COVID-19 patient in Vietnam: 2/9...         Vinh Phuc   \n",
       "835   new confirmed COVID-19 patient in Germany: Ham...           Hamburg   \n",
       "559   new confirmed COVID-19 patient in South Korea:...       South Korea   \n",
       "684   new confirmed COVID-19 patient in Taiwan: male...            Taiwan   \n",
       "\n",
       "          country  gender   age symptom_onset  If_onset_approximated  \\\n",
       "862           UAE    male  51.0    2020-01-23                    0.0   \n",
       "658        Taiwan  female  55.0    2020-01-23                    0.0   \n",
       "252         Japan  female  35.0    2020-01-30                    0.0   \n",
       "706      Thailand    male  51.0    2020-01-23                    0.0   \n",
       "215        France    male  51.0    2020-01-23                    0.0   \n",
       "...           ...     ...   ...           ...                    ...   \n",
       "1033         Iran    male  51.0    2020-01-23                    0.0   \n",
       "763       Vietnam  female  55.0    2020-01-23                    0.0   \n",
       "835       Germany    male  51.0    2020-02-26                    0.0   \n",
       "559   South Korea    male  37.0    2020-01-26                    0.0   \n",
       "684        Taiwan    male  55.0    2020-01-23                    0.0   \n",
       "\n",
       "     hosp_visit_date exposure_end  visiting Wuhan  from Wuhan  death  \\\n",
       "862       2020-01-23   2020-01-22             0.0         0.0    0.0   \n",
       "658       2020-01-23   2020-01-21             1.0         0.0    0.0   \n",
       "252       2020-01-31   2020-01-22             0.0         1.0    1.0   \n",
       "706       2020-01-23   2020-01-22             1.0         0.0    0.0   \n",
       "215       2020-01-23   2020-01-22             0.0         0.0    0.0   \n",
       "...              ...          ...             ...         ...    ...   \n",
       "1033      2020-01-23   2020-01-22             0.0         0.0    0.0   \n",
       "763       2020-01-23   2020-01-28             0.0         0.0    0.0   \n",
       "835       2020-02-27   2020-01-22             0.0         0.0    0.0   \n",
       "559       2020-01-23   2020-01-23             0.0         0.0    0.0   \n",
       "684       2020-01-23   2020-01-22             0.0         0.0    0.0   \n",
       "\n",
       "                        source  \\\n",
       "862               The National   \n",
       "658                Taiwan News   \n",
       "252         Ministry of Health   \n",
       "706          Channel News Asia   \n",
       "215                 nice matin   \n",
       "...                        ...   \n",
       "1033                  ABC News   \n",
       "763               Vietnam News   \n",
       "835             Suede Deutsche   \n",
       "559   South China Morning Post   \n",
       "684                 Taiwan CDC   \n",
       "\n",
       "                                                   link  \n",
       "862   https://www.thenational.ae/uae/health/coronavi...  \n",
       "658       https://www.taiwannews.com.tw/en/news/3866003  \n",
       "252   https://www.mhlw.go.jp/stf/houdou/houdou_list_...  \n",
       "706   https://www.channelnewsasia.com/news/asia/wuha...  \n",
       "215   https://www.nicematin.com/sante/un-premier-cas...  \n",
       "...                                                 ...  \n",
       "1033  https://abcnews.go.com/International/wireStory...  \n",
       "763   https://vietnamnews.vn/society/591803/viet-nam...  \n",
       "835   https://www.sueddeutsche.de/panorama/coronavir...  \n",
       "559   https://www.scmp.com/news/asia/east-asia/artic...  \n",
       "684   https://www.cdc.gov.tw/En/Bulletin/Detail/MtvP...  \n",
       "\n",
       "[813 rows x 17 columns]"
      ]
     },
     "execution_count": 72,
     "metadata": {},
     "output_type": "execute_result"
    }
   ],
   "source": [
    "x_train"
   ]
  },
  {
   "cell_type": "code",
   "execution_count": 73,
   "metadata": {},
   "outputs": [
    {
     "data": {
      "text/plain": [
       "862     0.0\n",
       "658     0.0\n",
       "252     1.0\n",
       "706     0.0\n",
       "215     0.0\n",
       "       ... \n",
       "1033    0.0\n",
       "763     0.0\n",
       "835     0.0\n",
       "559     0.0\n",
       "684     0.0\n",
       "Name: recovered, Length: 813, dtype: float64"
      ]
     },
     "execution_count": 73,
     "metadata": {},
     "output_type": "execute_result"
    }
   ],
   "source": [
    "y_train"
   ]
  },
  {
   "cell_type": "code",
   "execution_count": 75,
   "metadata": {},
   "outputs": [
    {
     "data": {
      "text/plain": [
       "<matplotlib.axes._subplots.AxesSubplot at 0x1c56f8eb0d0>"
      ]
     },
     "execution_count": 75,
     "metadata": {},
     "output_type": "execute_result"
    },
    {
     "data": {
      "image/png": "[encoded data removed]",
      "text/plain": [
       "<Figure size 720x720 with 1 Axes>"
      ]
     },
     "metadata": {},
     "output_type": "display_data"
    }
   ],
   "source": [
    "sns.kdeplot(df['age'], shade=True)\n",
    "sns.kdeplot(df['case_in_country'], shade=True)"
   ]
  },
  {
   "cell_type": "code",
   "execution_count": 76,
   "metadata": {},
   "outputs": [
    {
     "data": {
      "text/html": [
       "<div>\n",
       "<style scoped>\n",
       "    .dataframe tbody tr th:only-of-type {\n",
       "        vertical-align: middle;\n",
       "    }\n",
       "\n",
       "    .dataframe tbody tr th {\n",
       "        vertical-align: top;\n",
       "    }\n",
       "\n",
       "    .dataframe thead th {\n",
       "        text-align: right;\n",
       "    }\n",
       "</style>\n",
       "<table border=\"1\" class=\"dataframe\">\n",
       "  <thead>\n",
       "    <tr style=\"text-align: right;\">\n",
       "      <th></th>\n",
       "      <th>id</th>\n",
       "      <th>case_in_country</th>\n",
       "      <th>reporting date</th>\n",
       "      <th>summary</th>\n",
       "      <th>location</th>\n",
       "      <th>country</th>\n",
       "      <th>gender</th>\n",
       "      <th>age</th>\n",
       "      <th>symptom_onset</th>\n",
       "      <th>If_onset_approximated</th>\n",
       "      <th>hosp_visit_date</th>\n",
       "      <th>exposure_end</th>\n",
       "      <th>visiting Wuhan</th>\n",
       "      <th>from Wuhan</th>\n",
       "      <th>death</th>\n",
       "      <th>recovered</th>\n",
       "      <th>source</th>\n",
       "      <th>link</th>\n",
       "    </tr>\n",
       "  </thead>\n",
       "  <tbody>\n",
       "    <tr>\n",
       "      <th>0</th>\n",
       "      <td>1.0</td>\n",
       "      <td>28.0</td>\n",
       "      <td>2020-01-20</td>\n",
       "      <td>First confirmed imported COVID-19 pneumonia pa...</td>\n",
       "      <td>Shenzhen, Guangdong</td>\n",
       "      <td>China</td>\n",
       "      <td>male</td>\n",
       "      <td>66.0</td>\n",
       "      <td>2020-01-23</td>\n",
       "      <td>0.0</td>\n",
       "      <td>2020-01-23</td>\n",
       "      <td>2020-01-22</td>\n",
       "      <td>1.0</td>\n",
       "      <td>0.0</td>\n",
       "      <td>0.0</td>\n",
       "      <td>0.0</td>\n",
       "      <td>Shenzhen Municipal Health Commission</td>\n",
       "      <td>http://wjw.sz.gov.cn/wzx/202001/t20200120_1898...</td>\n",
       "    </tr>\n",
       "    <tr>\n",
       "      <th>1</th>\n",
       "      <td>2.0</td>\n",
       "      <td>28.0</td>\n",
       "      <td>2020-01-20</td>\n",
       "      <td>First confirmed imported COVID-19 pneumonia pa...</td>\n",
       "      <td>Shanghai</td>\n",
       "      <td>China</td>\n",
       "      <td>female</td>\n",
       "      <td>56.0</td>\n",
       "      <td>2020-01-15</td>\n",
       "      <td>0.0</td>\n",
       "      <td>2020-01-15</td>\n",
       "      <td>2020-01-22</td>\n",
       "      <td>0.0</td>\n",
       "      <td>1.0</td>\n",
       "      <td>1.0</td>\n",
       "      <td>1.0</td>\n",
       "      <td>Official Weibo of Shanghai Municipal Health Co...</td>\n",
       "      <td>https://www.weibo.com/2372649470/IqogQhgfa?fro...</td>\n",
       "    </tr>\n",
       "    <tr>\n",
       "      <th>2</th>\n",
       "      <td>3.0</td>\n",
       "      <td>28.0</td>\n",
       "      <td>2020-01-21</td>\n",
       "      <td>First confirmed imported cases in Zhejiang: pa...</td>\n",
       "      <td>Zhejiang</td>\n",
       "      <td>China</td>\n",
       "      <td>male</td>\n",
       "      <td>46.0</td>\n",
       "      <td>2020-01-23</td>\n",
       "      <td>0.0</td>\n",
       "      <td>2020-01-17</td>\n",
       "      <td>2020-01-22</td>\n",
       "      <td>0.0</td>\n",
       "      <td>1.0</td>\n",
       "      <td>1.0</td>\n",
       "      <td>1.0</td>\n",
       "      <td>Health Commission of Zhejiang Province</td>\n",
       "      <td>http://www.zjwjw.gov.cn/art/2020/1/21/art_1202...</td>\n",
       "    </tr>\n",
       "    <tr>\n",
       "      <th>3</th>\n",
       "      <td>4.0</td>\n",
       "      <td>28.0</td>\n",
       "      <td>2020-01-21</td>\n",
       "      <td>new confirmed imported COVID-19 pneumonia in T...</td>\n",
       "      <td>Tianjin</td>\n",
       "      <td>China</td>\n",
       "      <td>female</td>\n",
       "      <td>60.0</td>\n",
       "      <td>2020-01-23</td>\n",
       "      <td>0.0</td>\n",
       "      <td>2020-01-19</td>\n",
       "      <td>2020-01-22</td>\n",
       "      <td>1.0</td>\n",
       "      <td>0.0</td>\n",
       "      <td>0.0</td>\n",
       "      <td>0.0</td>\n",
       "      <td>人民日报官方微博</td>\n",
       "      <td>https://m.weibo.cn/status/4463235401268457?</td>\n",
       "    </tr>\n",
       "    <tr>\n",
       "      <th>4</th>\n",
       "      <td>5.0</td>\n",
       "      <td>28.0</td>\n",
       "      <td>2020-01-21</td>\n",
       "      <td>new confirmed imported COVID-19 pneumonia in T...</td>\n",
       "      <td>Tianjin</td>\n",
       "      <td>China</td>\n",
       "      <td>male</td>\n",
       "      <td>58.0</td>\n",
       "      <td>2020-01-23</td>\n",
       "      <td>0.0</td>\n",
       "      <td>2020-01-14</td>\n",
       "      <td>2020-01-22</td>\n",
       "      <td>0.0</td>\n",
       "      <td>0.0</td>\n",
       "      <td>0.0</td>\n",
       "      <td>0.0</td>\n",
       "      <td>人民日报官方微博</td>\n",
       "      <td>https://m.weibo.cn/status/4463235401268457?</td>\n",
       "    </tr>\n",
       "  </tbody>\n",
       "</table>\n",
       "</div>"
      ],
      "text/plain": [
       "    id  case_in_country reporting date  \\\n",
       "0  1.0             28.0     2020-01-20   \n",
       "1  2.0             28.0     2020-01-20   \n",
       "2  3.0             28.0     2020-01-21   \n",
       "3  4.0             28.0     2020-01-21   \n",
       "4  5.0             28.0     2020-01-21   \n",
       "\n",
       "                                             summary             location  \\\n",
       "0  First confirmed imported COVID-19 pneumonia pa...  Shenzhen, Guangdong   \n",
       "1  First confirmed imported COVID-19 pneumonia pa...             Shanghai   \n",
       "2  First confirmed imported cases in Zhejiang: pa...             Zhejiang   \n",
       "3  new confirmed imported COVID-19 pneumonia in T...              Tianjin   \n",
       "4  new confirmed imported COVID-19 pneumonia in T...              Tianjin   \n",
       "\n",
       "  country  gender   age symptom_onset  If_onset_approximated hosp_visit_date  \\\n",
       "0   China    male  66.0    2020-01-23                    0.0      2020-01-23   \n",
       "1   China  female  56.0    2020-01-15                    0.0      2020-01-15   \n",
       "2   China    male  46.0    2020-01-23                    0.0      2020-01-17   \n",
       "3   China  female  60.0    2020-01-23                    0.0      2020-01-19   \n",
       "4   China    male  58.0    2020-01-23                    0.0      2020-01-14   \n",
       "\n",
       "  exposure_end  visiting Wuhan  from Wuhan  death  recovered  \\\n",
       "0   2020-01-22             1.0         0.0    0.0        0.0   \n",
       "1   2020-01-22             0.0         1.0    1.0        1.0   \n",
       "2   2020-01-22             0.0         1.0    1.0        1.0   \n",
       "3   2020-01-22             1.0         0.0    0.0        0.0   \n",
       "4   2020-01-22             0.0         0.0    0.0        0.0   \n",
       "\n",
       "                                              source  \\\n",
       "0               Shenzhen Municipal Health Commission   \n",
       "1  Official Weibo of Shanghai Municipal Health Co...   \n",
       "2             Health Commission of Zhejiang Province   \n",
       "3                                           人民日报官方微博   \n",
       "4                                           人民日报官方微博   \n",
       "\n",
       "                                                link  \n",
       "0  http://wjw.sz.gov.cn/wzx/202001/t20200120_1898...  \n",
       "1  https://www.weibo.com/2372649470/IqogQhgfa?fro...  \n",
       "2  http://www.zjwjw.gov.cn/art/2020/1/21/art_1202...  \n",
       "3        https://m.weibo.cn/status/4463235401268457?  \n",
       "4        https://m.weibo.cn/status/4463235401268457?  "
      ]
     },
     "execution_count": 76,
     "metadata": {},
     "output_type": "execute_result"
    }
   ],
   "source": [
    "df.head()"
   ]
  },
  {
   "cell_type": "code",
   "execution_count": null,
   "metadata": {},
   "outputs": [],
   "source": []
  }
 ],
 "metadata": {
  "kernelspec": {
   "display_name": "Python 3",
   "language": "python",
   "name": "python3"
  },
  "language_info": {
   "codemirror_mode": {
    "name": "ipython",
    "version": 3
   },
   "file_extension": ".py",
   "mimetype": "text/x-python",
   "name": "python",
   "nbconvert_exporter": "python",
   "pygments_lexer": "ipython3",
   "version": "3.8.3"
  }
 },
 "nbformat": 4,
 "nbformat_minor": 4
}
