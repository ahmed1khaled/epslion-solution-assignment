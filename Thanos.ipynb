{
 "cells": [
  {
   "cell_type": "markdown",
   "metadata": {},
   "source": [
    "<img src=\"thanos.jpg\">"
   ]
  },
  {
   "cell_type": "code",
   "execution_count": null,
   "metadata": {},
   "outputs": [],
   "source": []
  },
  {
   "cell_type": "code",
   "execution_count": null,
   "metadata": {},
   "outputs": [],
   "source": []
  },
  {
   "cell_type": "code",
   "execution_count": null,
   "metadata": {},
   "outputs": [],
   "source": []
  },
  {
   "cell_type": "code",
   "execution_count": 4,
   "metadata": {},
   "outputs": [
    {
     "name": "stdout",
     "output_type": "stream",
     "text": [
      "Wall time: 0 ns\n"
     ]
    }
   ],
   "source": [
    "%%time\n",
    "import os\n",
    "import random"
   ]
  },
  {
   "cell_type": "code",
   "execution_count": 5,
   "metadata": {},
   "outputs": [
    {
     "name": "stdout",
     "output_type": "stream",
     "text": [
      "Wall time: 0 ns\n"
     ]
    }
   ],
   "source": [
    "%%time\n",
    "def show_universe_people(place):\n",
    "    people = os.listdir(place)\n",
    "    return people"
   ]
  },
  {
   "cell_type": "code",
   "execution_count": 6,
   "metadata": {},
   "outputs": [
    {
     "name": "stdout",
     "output_type": "stream",
     "text": [
      "Wall time: 393 µs\n"
     ]
    },
    {
     "data": {
      "text/plain": [
       "['New Text Document - Copy (10).txt',\n",
       " 'New Text Document - Copy (11).txt',\n",
       " 'New Text Document - Copy (12).txt',\n",
       " 'New Text Document - Copy (13).txt',\n",
       " 'New Text Document - Copy (14).txt',\n",
       " 'New Text Document - Copy (15).txt',\n",
       " 'New Text Document - Copy (16).txt',\n",
       " 'New Text Document - Copy (17).txt',\n",
       " 'New Text Document - Copy (18).txt',\n",
       " 'New Text Document - Copy (19).txt',\n",
       " 'New Text Document - Copy (2).txt',\n",
       " 'New Text Document - Copy (20).txt',\n",
       " 'New Text Document - Copy (21).txt',\n",
       " 'New Text Document - Copy (22).txt',\n",
       " 'New Text Document - Copy (23).txt',\n",
       " 'New Text Document - Copy (24).txt',\n",
       " 'New Text Document - Copy (25).txt',\n",
       " 'New Text Document - Copy (26).txt',\n",
       " 'New Text Document - Copy (27).txt',\n",
       " 'New Text Document - Copy (28).txt',\n",
       " 'New Text Document - Copy (29).txt',\n",
       " 'New Text Document - Copy (3).txt',\n",
       " 'New Text Document - Copy (30).txt',\n",
       " 'New Text Document - Copy (31).txt',\n",
       " 'New Text Document - Copy (32).txt',\n",
       " 'New Text Document - Copy (33).txt',\n",
       " 'New Text Document - Copy (34).txt',\n",
       " 'New Text Document - Copy (35).txt',\n",
       " 'New Text Document - Copy (36).txt',\n",
       " 'New Text Document - Copy (37).txt',\n",
       " 'New Text Document - Copy (38).txt',\n",
       " 'New Text Document - Copy (39).txt',\n",
       " 'New Text Document - Copy (4).txt',\n",
       " 'New Text Document - Copy (40).txt',\n",
       " 'New Text Document - Copy (41).txt',\n",
       " 'New Text Document - Copy (42).txt',\n",
       " 'New Text Document - Copy (43).txt',\n",
       " 'New Text Document - Copy (44).txt',\n",
       " 'New Text Document - Copy (45).txt',\n",
       " 'New Text Document - Copy (46).txt',\n",
       " 'New Text Document - Copy (47).txt',\n",
       " 'New Text Document - Copy (48).txt',\n",
       " 'New Text Document - Copy (49).txt',\n",
       " 'New Text Document - Copy (5).txt',\n",
       " 'New Text Document - Copy (50).txt',\n",
       " 'New Text Document - Copy (6).txt',\n",
       " 'New Text Document - Copy (7).txt',\n",
       " 'New Text Document - Copy (8).txt',\n",
       " 'New Text Document - Copy (9).txt',\n",
       " 'New Text Document - Copy(1).txt']"
      ]
     },
     "execution_count": 6,
     "metadata": {},
     "output_type": "execute_result"
    }
   ],
   "source": [
    "%%time\n",
    "universe = show_universe_people('universe')\n",
    "universe"
   ]
  },
  {
   "cell_type": "code",
   "execution_count": 7,
   "metadata": {},
   "outputs": [
    {
     "data": {
      "text/plain": [
       "50"
      ]
     },
     "execution_count": 7,
     "metadata": {},
     "output_type": "execute_result"
    }
   ],
   "source": [
    "len(universe)"
   ]
  },
  {
   "cell_type": "code",
   "execution_count": 8,
   "metadata": {},
   "outputs": [
    {
     "data": {
      "text/plain": [
       "25.0"
      ]
     },
     "execution_count": 8,
     "metadata": {},
     "output_type": "execute_result"
    }
   ],
   "source": [
    "len(universe) / 2"
   ]
  },
  {
   "cell_type": "code",
   "execution_count": 9,
   "metadata": {},
   "outputs": [
    {
     "data": {
      "text/plain": [
       "25.5"
      ]
     },
     "execution_count": 9,
     "metadata": {},
     "output_type": "execute_result"
    }
   ],
   "source": [
    "51 / 2"
   ]
  },
  {
   "cell_type": "code",
   "execution_count": 10,
   "metadata": {},
   "outputs": [
    {
     "data": {
      "text/plain": [
       "25"
      ]
     },
     "execution_count": 10,
     "metadata": {},
     "output_type": "execute_result"
    }
   ],
   "source": [
    "51 // 2"
   ]
  },
  {
   "cell_type": "code",
   "execution_count": 11,
   "metadata": {},
   "outputs": [
    {
     "data": {
      "text/plain": [
       "25"
      ]
     },
     "execution_count": 11,
     "metadata": {},
     "output_type": "execute_result"
    }
   ],
   "source": [
    "len(universe) // 2"
   ]
  },
  {
   "cell_type": "code",
   "execution_count": 12,
   "metadata": {},
   "outputs": [
    {
     "data": {
      "text/plain": [
       "'New Text Document - Copy (43).txt'"
      ]
     },
     "execution_count": 12,
     "metadata": {},
     "output_type": "execute_result"
    }
   ],
   "source": [
    "random.choice(universe)"
   ]
  },
  {
   "cell_type": "markdown",
   "metadata": {},
   "source": [
    "**Start Destroying The World**"
   ]
  },
  {
   "cell_type": "code",
   "execution_count": 13,
   "metadata": {},
   "outputs": [],
   "source": [
    "def thanos_snap(universe):\n",
    "    half_of_universe = len(universe) // 2\n",
    "    for i in range(half_of_universe):\n",
    "        random_victim = random.choice(universe)\n",
    "        os.remove(f'universe/{random_victim}')\n",
    "        universe.remove(random_victim)\n",
    "        print(f\"Destroying: {random_victim}\")\n",
    "    print('Perfectly balanced, as all things should be')"
   ]
  },
  {
   "cell_type": "code",
   "execution_count": 14,
   "metadata": {},
   "outputs": [
    {
     "name": "stdout",
     "output_type": "stream",
     "text": [
      "Destroying: New Text Document - Copy (44).txt\n",
      "Destroying: New Text Document - Copy (8).txt\n",
      "Destroying: New Text Document - Copy (33).txt\n",
      "Destroying: New Text Document - Copy (6).txt\n",
      "Destroying: New Text Document - Copy (40).txt\n",
      "Destroying: New Text Document - Copy (14).txt\n",
      "Destroying: New Text Document - Copy (36).txt\n",
      "Destroying: New Text Document - Copy (4).txt\n",
      "Destroying: New Text Document - Copy (41).txt\n",
      "Destroying: New Text Document - Copy (45).txt\n",
      "Destroying: New Text Document - Copy (48).txt\n",
      "Destroying: New Text Document - Copy (29).txt\n",
      "Destroying: New Text Document - Copy (17).txt\n",
      "Destroying: New Text Document - Copy (49).txt\n",
      "Destroying: New Text Document - Copy (32).txt\n",
      "Destroying: New Text Document - Copy (35).txt\n",
      "Destroying: New Text Document - Copy (20).txt\n",
      "Destroying: New Text Document - Copy (11).txt\n",
      "Destroying: New Text Document - Copy (15).txt\n",
      "Destroying: New Text Document - Copy (24).txt\n",
      "Destroying: New Text Document - Copy (47).txt\n",
      "Destroying: New Text Document - Copy (9).txt\n",
      "Destroying: New Text Document - Copy (13).txt\n",
      "Destroying: New Text Document - Copy (16).txt\n",
      "Destroying: New Text Document - Copy (25).txt\n",
      "Perfectly balanced, as all things should be\n"
     ]
    }
   ],
   "source": [
    "thanos_snap(universe)"
   ]
  },
  {
   "cell_type": "code",
   "execution_count": 15,
   "metadata": {},
   "outputs": [],
   "source": [
    "new_universe = show_universe_people('universe')"
   ]
  },
  {
   "cell_type": "code",
   "execution_count": 16,
   "metadata": {},
   "outputs": [
    {
     "name": "stdout",
     "output_type": "stream",
     "text": [
      "25\n"
     ]
    }
   ],
   "source": [
    "print(len(new_universe))"
   ]
  },
  {
   "cell_type": "code",
   "execution_count": 17,
   "metadata": {},
   "outputs": [
    {
     "data": {
      "text/plain": [
       "['New Text Document - Copy (10).txt',\n",
       " 'New Text Document - Copy (12).txt',\n",
       " 'New Text Document - Copy (18).txt',\n",
       " 'New Text Document - Copy (19).txt',\n",
       " 'New Text Document - Copy (2).txt',\n",
       " 'New Text Document - Copy (21).txt',\n",
       " 'New Text Document - Copy (22).txt',\n",
       " 'New Text Document - Copy (23).txt',\n",
       " 'New Text Document - Copy (26).txt',\n",
       " 'New Text Document - Copy (27).txt',\n",
       " 'New Text Document - Copy (28).txt',\n",
       " 'New Text Document - Copy (3).txt',\n",
       " 'New Text Document - Copy (30).txt',\n",
       " 'New Text Document - Copy (31).txt',\n",
       " 'New Text Document - Copy (34).txt',\n",
       " 'New Text Document - Copy (37).txt',\n",
       " 'New Text Document - Copy (38).txt',\n",
       " 'New Text Document - Copy (39).txt',\n",
       " 'New Text Document - Copy (42).txt',\n",
       " 'New Text Document - Copy (43).txt',\n",
       " 'New Text Document - Copy (46).txt',\n",
       " 'New Text Document - Copy (5).txt',\n",
       " 'New Text Document - Copy (50).txt',\n",
       " 'New Text Document - Copy (7).txt',\n",
       " 'New Text Document - Copy(1).txt']"
      ]
     },
     "execution_count": 17,
     "metadata": {},
     "output_type": "execute_result"
    }
   ],
   "source": [
    "new_universe"
   ]
  },
  {
   "cell_type": "markdown",
   "metadata": {},
   "source": [
    "# Great Work!"
   ]
  }
 ],
 "metadata": {
  "kernelspec": {
   "display_name": "Python 3",
   "language": "python",
   "name": "python3"
  },
  "language_info": {
   "codemirror_mode": {
    "name": "ipython",
    "version": 3
   },
   "file_extension": ".py",
   "mimetype": "text/x-python",
   "name": "python",
   "nbconvert_exporter": "python",
   "pygments_lexer": "ipython3",
   "version": "3.8.3"
  }
 },
 "nbformat": 4,
 "nbformat_minor": 2
}
